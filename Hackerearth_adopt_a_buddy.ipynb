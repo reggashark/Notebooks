{
 "cells": [
  {
   "cell_type": "code",
   "execution_count": 1,
   "metadata": {},
   "outputs": [],
   "source": [
    "from sklearn.impute import KNNImputer\n"
   ]
  },
  {
   "cell_type": "code",
   "execution_count": 2,
   "metadata": {},
   "outputs": [],
   "source": [
    "from sklearn.preprocessing import MinMaxScaler,StandardScaler,QuantileTransformer,KBinsDiscretizer\n",
    "import glob\n",
    "import imblearn\n",
    "import pandas as pd\n",
    "import numpy as np\n",
    "from xgboost import XGBClassifier\n",
    "from datetime import date"
   ]
  },
  {
   "cell_type": "code",
   "execution_count": 3,
   "metadata": {},
   "outputs": [],
   "source": [
    "knn =  KNNImputer(n_neighbors=2)\n"
   ]
  },
  {
   "cell_type": "code",
   "execution_count": 4,
   "metadata": {},
   "outputs": [],
   "source": [
    "train=  pd.read_csv(\"/home/kruzr/personal_git/data/hackeearth/Dataset/train.csv\")\n",
    "test =  pd.read_csv(\"/home/kruzr/personal_git/data/hackeearth/Dataset/test.csv\")"
   ]
  },
  {
   "cell_type": "code",
   "execution_count": 5,
   "metadata": {},
   "outputs": [],
   "source": [
    "train[\"condition\"] = knn.fit_transform(train[[\"condition\"]])"
   ]
  },
  {
   "cell_type": "code",
   "execution_count": 6,
   "metadata": {},
   "outputs": [],
   "source": [
    "test[\"condition\"] = knn.transform(test[[\"condition\"]])"
   ]
  },
  {
   "cell_type": "code",
   "execution_count": 7,
   "metadata": {},
   "outputs": [],
   "source": [
    "train_x_cols = [\"pet_id\",\"issue_date\",\"listing_date\",\"condition\",\"color_type\",\"length(m)\",\"height(cm)\",\"X1\",\"X2\"]\n",
    "train_y_cols = [\"breed_category\",\"pet_category\"]"
   ]
  },
  {
   "cell_type": "code",
   "execution_count": 8,
   "metadata": {},
   "outputs": [],
   "source": [
    "train_x =  train[train.columns.difference(train_y_cols)]\n",
    "train_y =  train[train_y_cols]"
   ]
  },
  {
   "cell_type": "code",
   "execution_count": 9,
   "metadata": {},
   "outputs": [
    {
     "name": "stderr",
     "output_type": "stream",
     "text": [
      "/home/kruzr/work/virtual_envs/notebookenv/lib/python3.6/site-packages/ipykernel_launcher.py:1: SettingWithCopyWarning: \n",
      "A value is trying to be set on a copy of a slice from a DataFrame.\n",
      "Try using .loc[row_indexer,col_indexer] = value instead\n",
      "\n",
      "See the caveats in the documentation: http://pandas.pydata.org/pandas-docs/stable/user_guide/indexing.html#returning-a-view-versus-a-copy\n",
      "  \"\"\"Entry point for launching an IPython kernel.\n"
     ]
    }
   ],
   "source": [
    "train_y[\"breed_category\"] = train_y[\"breed_category\"].astype(int)"
   ]
  },
  {
   "cell_type": "code",
   "execution_count": 10,
   "metadata": {},
   "outputs": [],
   "source": [
    "# train_mms_len =  StandardScaler()\n",
    "# train_mms_he  =  StandardScaler()\n",
    "train_mms_len =  KBinsDiscretizer(n_bins=10,encode=\"ordinal\")\n"
   ]
  },
  {
   "cell_type": "code",
   "execution_count": 11,
   "metadata": {},
   "outputs": [],
   "source": [
    "X1_sub = train.X1.value_counts().reset_index()[\"index\"][:18].to_list()"
   ]
  },
  {
   "cell_type": "code",
   "execution_count": 12,
   "metadata": {},
   "outputs": [],
   "source": [
    "color_type_sub = train.color_type.value_counts()[:30].reset_index()[\"index\"].to_list()"
   ]
  },
  {
   "cell_type": "code",
   "execution_count": 13,
   "metadata": {},
   "outputs": [],
   "source": [
    "def feature_engine(df,test=False):\n",
    "    df[\"days\"]  = (pd.DatetimeIndex(df['listing_date'])-pd.DatetimeIndex(df['issue_date'])).days\n",
    "    df[\"x1x2\"] = df[\"X1\"]*df[\"X2\"]\n",
    "    df[\"x1px2\"] = df[\"X1\"]+df[\"X2\"]\n",
    "    df[\"x1mx2\"] = abs(df[\"X1\"]-df[\"X2\"])\n",
    "    \n",
    "    df[\"lh\"] = df[\"length(m)\"]*100*df[\"height(cm)\"]\n",
    "    df[\"lhx1x2\"] = df[\"x1x2\"]*df[\"lh\"]\n",
    "    df.loc[~df.color_type.isin(color_type_sub),\"color_type\"]=\"Other\"\n",
    "    df.loc[~df.X1.isin(X1_sub),\"X1\"]=\"Other\"\n",
    "    df = pd.get_dummies(df, columns=['color_type'])\n",
    "    df = pd.get_dummies(df, columns=['X1'])\n",
    "#     df = pd.get_dummies(df, columns=['X2'])\n",
    "    \n",
    "    if( not test):\n",
    "        df[[\"length(m)\",\"height(cm)\",\"x1x2\",\"lh\",\"x1px2\",\"x1mx2\",\"days\",\"X2\"]] = train_mms_len.fit_transform(df[[\"length(m)\",\"height(cm)\",\"x1x2\",\"lh\",\"x1px2\",\"x1mx2\",\"days\",\"X2\"]])\n",
    "        \n",
    "    else:\n",
    "        df[[\"length(m)\",\"height(cm)\",\"x1x2\",\"lh\",\"x1px2\",\"x1mx2\",\"days\",\"X2\"]] = train_mms_len.transform(df[[\"length(m)\",\"height(cm)\",\"x1x2\",\"lh\",\"x1px2\",\"x1mx2\",\"days\",\"X2\"]])\n",
    "    df = pd.get_dummies(df, columns=['length(m)'])\n",
    "    df = pd.get_dummies(df, columns=[\"height(cm)\"])\n",
    "    df = pd.get_dummies(df, columns=[\"x1x2\"])\n",
    "    df = pd.get_dummies(df, columns=[\"lh\"])\n",
    "    df = pd.get_dummies(df, columns=[\"x1px2\"])\n",
    "    df = pd.get_dummies(df, columns=['days'])\n",
    "        \n",
    "    return df"
   ]
  },
  {
   "cell_type": "code",
   "execution_count": 14,
   "metadata": {},
   "outputs": [
    {
     "name": "stderr",
     "output_type": "stream",
     "text": [
      "/home/kruzr/work/virtual_envs/notebookenv/lib/python3.6/site-packages/ipykernel_launcher.py:2: SettingWithCopyWarning: \n",
      "A value is trying to be set on a copy of a slice from a DataFrame.\n",
      "Try using .loc[row_indexer,col_indexer] = value instead\n",
      "\n",
      "See the caveats in the documentation: http://pandas.pydata.org/pandas-docs/stable/user_guide/indexing.html#returning-a-view-versus-a-copy\n",
      "  \n",
      "/home/kruzr/work/virtual_envs/notebookenv/lib/python3.6/site-packages/sklearn/preprocessing/_discretization.py:202: UserWarning: Bins whose width are too small (i.e., <= 1e-8) in feature 2 are removed. Consider decreasing the number of bins.\n",
      "  'decreasing the number of bins.' % jj)\n",
      "/home/kruzr/work/virtual_envs/notebookenv/lib/python3.6/site-packages/sklearn/preprocessing/_discretization.py:202: UserWarning: Bins whose width are too small (i.e., <= 1e-8) in feature 4 are removed. Consider decreasing the number of bins.\n",
      "  'decreasing the number of bins.' % jj)\n",
      "/home/kruzr/work/virtual_envs/notebookenv/lib/python3.6/site-packages/sklearn/preprocessing/_discretization.py:202: UserWarning: Bins whose width are too small (i.e., <= 1e-8) in feature 5 are removed. Consider decreasing the number of bins.\n",
      "  'decreasing the number of bins.' % jj)\n",
      "/home/kruzr/work/virtual_envs/notebookenv/lib/python3.6/site-packages/sklearn/preprocessing/_discretization.py:202: UserWarning: Bins whose width are too small (i.e., <= 1e-8) in feature 7 are removed. Consider decreasing the number of bins.\n",
      "  'decreasing the number of bins.' % jj)\n"
     ]
    }
   ],
   "source": [
    "fe_train_x = feature_engine(train_x,test=False)"
   ]
  },
  {
   "cell_type": "code",
   "execution_count": 15,
   "metadata": {},
   "outputs": [
    {
     "data": {
      "text/html": [
       "<div>\n",
       "<style scoped>\n",
       "    .dataframe tbody tr th:only-of-type {\n",
       "        vertical-align: middle;\n",
       "    }\n",
       "\n",
       "    .dataframe tbody tr th {\n",
       "        vertical-align: top;\n",
       "    }\n",
       "\n",
       "    .dataframe thead th {\n",
       "        text-align: right;\n",
       "    }\n",
       "</style>\n",
       "<table border=\"1\" class=\"dataframe\">\n",
       "  <thead>\n",
       "    <tr style=\"text-align: right;\">\n",
       "      <th></th>\n",
       "      <th>X2</th>\n",
       "      <th>condition</th>\n",
       "      <th>issue_date</th>\n",
       "      <th>listing_date</th>\n",
       "      <th>pet_id</th>\n",
       "      <th>x1mx2</th>\n",
       "      <th>lhx1x2</th>\n",
       "      <th>color_type_Black</th>\n",
       "      <th>color_type_Black Brindle</th>\n",
       "      <th>color_type_Black Tabby</th>\n",
       "      <th>...</th>\n",
       "      <th>days_0.0</th>\n",
       "      <th>days_1.0</th>\n",
       "      <th>days_2.0</th>\n",
       "      <th>days_3.0</th>\n",
       "      <th>days_4.0</th>\n",
       "      <th>days_5.0</th>\n",
       "      <th>days_6.0</th>\n",
       "      <th>days_7.0</th>\n",
       "      <th>days_8.0</th>\n",
       "      <th>days_9.0</th>\n",
       "    </tr>\n",
       "  </thead>\n",
       "  <tbody>\n",
       "    <tr>\n",
       "      <th>0</th>\n",
       "      <td>3.0</td>\n",
       "      <td>2.00000</td>\n",
       "      <td>2016-07-10 00:00:00</td>\n",
       "      <td>2016-09-21 16:25:00</td>\n",
       "      <td>ANSL_69903</td>\n",
       "      <td>2.0</td>\n",
       "      <td>72820.80</td>\n",
       "      <td>0</td>\n",
       "      <td>0</td>\n",
       "      <td>0</td>\n",
       "      <td>...</td>\n",
       "      <td>1</td>\n",
       "      <td>0</td>\n",
       "      <td>0</td>\n",
       "      <td>0</td>\n",
       "      <td>0</td>\n",
       "      <td>0</td>\n",
       "      <td>0</td>\n",
       "      <td>0</td>\n",
       "      <td>0</td>\n",
       "      <td>0</td>\n",
       "    </tr>\n",
       "    <tr>\n",
       "      <th>1</th>\n",
       "      <td>3.0</td>\n",
       "      <td>1.00000</td>\n",
       "      <td>2013-11-21 00:00:00</td>\n",
       "      <td>2018-12-27 17:47:00</td>\n",
       "      <td>ANSL_66892</td>\n",
       "      <td>2.0</td>\n",
       "      <td>119536.56</td>\n",
       "      <td>0</td>\n",
       "      <td>0</td>\n",
       "      <td>0</td>\n",
       "      <td>...</td>\n",
       "      <td>0</td>\n",
       "      <td>0</td>\n",
       "      <td>0</td>\n",
       "      <td>0</td>\n",
       "      <td>0</td>\n",
       "      <td>0</td>\n",
       "      <td>0</td>\n",
       "      <td>0</td>\n",
       "      <td>1</td>\n",
       "      <td>0</td>\n",
       "    </tr>\n",
       "    <tr>\n",
       "      <th>2</th>\n",
       "      <td>2.0</td>\n",
       "      <td>0.88339</td>\n",
       "      <td>2014-09-28 00:00:00</td>\n",
       "      <td>2016-10-19 08:24:00</td>\n",
       "      <td>ANSL_69750</td>\n",
       "      <td>3.0</td>\n",
       "      <td>36810.00</td>\n",
       "      <td>0</td>\n",
       "      <td>0</td>\n",
       "      <td>0</td>\n",
       "      <td>...</td>\n",
       "      <td>0</td>\n",
       "      <td>0</td>\n",
       "      <td>0</td>\n",
       "      <td>0</td>\n",
       "      <td>0</td>\n",
       "      <td>0</td>\n",
       "      <td>1</td>\n",
       "      <td>0</td>\n",
       "      <td>0</td>\n",
       "      <td>0</td>\n",
       "    </tr>\n",
       "    <tr>\n",
       "      <th>3</th>\n",
       "      <td>1.0</td>\n",
       "      <td>1.00000</td>\n",
       "      <td>2016-12-31 00:00:00</td>\n",
       "      <td>2019-01-25 18:30:00</td>\n",
       "      <td>ANSL_71623</td>\n",
       "      <td>1.0</td>\n",
       "      <td>0.00</td>\n",
       "      <td>0</td>\n",
       "      <td>0</td>\n",
       "      <td>0</td>\n",
       "      <td>...</td>\n",
       "      <td>0</td>\n",
       "      <td>0</td>\n",
       "      <td>0</td>\n",
       "      <td>0</td>\n",
       "      <td>0</td>\n",
       "      <td>0</td>\n",
       "      <td>1</td>\n",
       "      <td>0</td>\n",
       "      <td>0</td>\n",
       "      <td>0</td>\n",
       "    </tr>\n",
       "    <tr>\n",
       "      <th>4</th>\n",
       "      <td>2.0</td>\n",
       "      <td>2.00000</td>\n",
       "      <td>2017-09-28 00:00:00</td>\n",
       "      <td>2017-11-19 09:38:00</td>\n",
       "      <td>ANSL_57969</td>\n",
       "      <td>3.0</td>\n",
       "      <td>39816.00</td>\n",
       "      <td>1</td>\n",
       "      <td>0</td>\n",
       "      <td>0</td>\n",
       "      <td>...</td>\n",
       "      <td>1</td>\n",
       "      <td>0</td>\n",
       "      <td>0</td>\n",
       "      <td>0</td>\n",
       "      <td>0</td>\n",
       "      <td>0</td>\n",
       "      <td>0</td>\n",
       "      <td>0</td>\n",
       "      <td>0</td>\n",
       "      <td>0</td>\n",
       "    </tr>\n",
       "    <tr>\n",
       "      <th>...</th>\n",
       "      <td>...</td>\n",
       "      <td>...</td>\n",
       "      <td>...</td>\n",
       "      <td>...</td>\n",
       "      <td>...</td>\n",
       "      <td>...</td>\n",
       "      <td>...</td>\n",
       "      <td>...</td>\n",
       "      <td>...</td>\n",
       "      <td>...</td>\n",
       "      <td>...</td>\n",
       "      <td>...</td>\n",
       "      <td>...</td>\n",
       "      <td>...</td>\n",
       "      <td>...</td>\n",
       "      <td>...</td>\n",
       "      <td>...</td>\n",
       "      <td>...</td>\n",
       "      <td>...</td>\n",
       "      <td>...</td>\n",
       "      <td>...</td>\n",
       "    </tr>\n",
       "    <tr>\n",
       "      <th>18829</th>\n",
       "      <td>1.0</td>\n",
       "      <td>2.00000</td>\n",
       "      <td>2017-01-26 00:00:00</td>\n",
       "      <td>2018-03-09 15:35:00</td>\n",
       "      <td>ANSL_51738</td>\n",
       "      <td>1.0</td>\n",
       "      <td>0.00</td>\n",
       "      <td>0</td>\n",
       "      <td>0</td>\n",
       "      <td>0</td>\n",
       "      <td>...</td>\n",
       "      <td>0</td>\n",
       "      <td>0</td>\n",
       "      <td>0</td>\n",
       "      <td>0</td>\n",
       "      <td>0</td>\n",
       "      <td>1</td>\n",
       "      <td>0</td>\n",
       "      <td>0</td>\n",
       "      <td>0</td>\n",
       "      <td>0</td>\n",
       "    </tr>\n",
       "    <tr>\n",
       "      <th>18830</th>\n",
       "      <td>2.0</td>\n",
       "      <td>0.88339</td>\n",
       "      <td>2016-06-18 00:00:00</td>\n",
       "      <td>2017-07-09 08:37:00</td>\n",
       "      <td>ANSL_59900</td>\n",
       "      <td>3.0</td>\n",
       "      <td>62415.00</td>\n",
       "      <td>0</td>\n",
       "      <td>0</td>\n",
       "      <td>0</td>\n",
       "      <td>...</td>\n",
       "      <td>0</td>\n",
       "      <td>0</td>\n",
       "      <td>0</td>\n",
       "      <td>0</td>\n",
       "      <td>1</td>\n",
       "      <td>0</td>\n",
       "      <td>0</td>\n",
       "      <td>0</td>\n",
       "      <td>0</td>\n",
       "      <td>0</td>\n",
       "    </tr>\n",
       "    <tr>\n",
       "      <th>18831</th>\n",
       "      <td>3.0</td>\n",
       "      <td>0.00000</td>\n",
       "      <td>2010-07-21 00:00:00</td>\n",
       "      <td>2018-08-22 14:27:00</td>\n",
       "      <td>ANSL_53210</td>\n",
       "      <td>2.0</td>\n",
       "      <td>325829.79</td>\n",
       "      <td>0</td>\n",
       "      <td>0</td>\n",
       "      <td>0</td>\n",
       "      <td>...</td>\n",
       "      <td>0</td>\n",
       "      <td>0</td>\n",
       "      <td>0</td>\n",
       "      <td>0</td>\n",
       "      <td>0</td>\n",
       "      <td>0</td>\n",
       "      <td>0</td>\n",
       "      <td>0</td>\n",
       "      <td>0</td>\n",
       "      <td>1</td>\n",
       "    </tr>\n",
       "    <tr>\n",
       "      <th>18832</th>\n",
       "      <td>3.0</td>\n",
       "      <td>0.00000</td>\n",
       "      <td>2017-05-12 00:00:00</td>\n",
       "      <td>2018-02-08 14:05:00</td>\n",
       "      <td>ANSL_63468</td>\n",
       "      <td>2.0</td>\n",
       "      <td>288416.70</td>\n",
       "      <td>0</td>\n",
       "      <td>0</td>\n",
       "      <td>0</td>\n",
       "      <td>...</td>\n",
       "      <td>0</td>\n",
       "      <td>0</td>\n",
       "      <td>0</td>\n",
       "      <td>1</td>\n",
       "      <td>0</td>\n",
       "      <td>0</td>\n",
       "      <td>0</td>\n",
       "      <td>0</td>\n",
       "      <td>0</td>\n",
       "      <td>0</td>\n",
       "    </tr>\n",
       "    <tr>\n",
       "      <th>18833</th>\n",
       "      <td>1.0</td>\n",
       "      <td>0.00000</td>\n",
       "      <td>2011-12-13 00:00:00</td>\n",
       "      <td>2018-10-26 14:18:00</td>\n",
       "      <td>ANSL_73558</td>\n",
       "      <td>1.0</td>\n",
       "      <td>0.00</td>\n",
       "      <td>0</td>\n",
       "      <td>0</td>\n",
       "      <td>0</td>\n",
       "      <td>...</td>\n",
       "      <td>0</td>\n",
       "      <td>0</td>\n",
       "      <td>0</td>\n",
       "      <td>0</td>\n",
       "      <td>0</td>\n",
       "      <td>0</td>\n",
       "      <td>0</td>\n",
       "      <td>0</td>\n",
       "      <td>0</td>\n",
       "      <td>1</td>\n",
       "    </tr>\n",
       "  </tbody>\n",
       "</table>\n",
       "<p>18834 rows × 106 columns</p>\n",
       "</div>"
      ],
      "text/plain": [
       "        X2  condition           issue_date         listing_date      pet_id  \\\n",
       "0      3.0    2.00000  2016-07-10 00:00:00  2016-09-21 16:25:00  ANSL_69903   \n",
       "1      3.0    1.00000  2013-11-21 00:00:00  2018-12-27 17:47:00  ANSL_66892   \n",
       "2      2.0    0.88339  2014-09-28 00:00:00  2016-10-19 08:24:00  ANSL_69750   \n",
       "3      1.0    1.00000  2016-12-31 00:00:00  2019-01-25 18:30:00  ANSL_71623   \n",
       "4      2.0    2.00000  2017-09-28 00:00:00  2017-11-19 09:38:00  ANSL_57969   \n",
       "...    ...        ...                  ...                  ...         ...   \n",
       "18829  1.0    2.00000  2017-01-26 00:00:00  2018-03-09 15:35:00  ANSL_51738   \n",
       "18830  2.0    0.88339  2016-06-18 00:00:00  2017-07-09 08:37:00  ANSL_59900   \n",
       "18831  3.0    0.00000  2010-07-21 00:00:00  2018-08-22 14:27:00  ANSL_53210   \n",
       "18832  3.0    0.00000  2017-05-12 00:00:00  2018-02-08 14:05:00  ANSL_63468   \n",
       "18833  1.0    0.00000  2011-12-13 00:00:00  2018-10-26 14:18:00  ANSL_73558   \n",
       "\n",
       "       x1mx2     lhx1x2  color_type_Black  color_type_Black Brindle  \\\n",
       "0        2.0   72820.80                 0                         0   \n",
       "1        2.0  119536.56                 0                         0   \n",
       "2        3.0   36810.00                 0                         0   \n",
       "3        1.0       0.00                 0                         0   \n",
       "4        3.0   39816.00                 1                         0   \n",
       "...      ...        ...               ...                       ...   \n",
       "18829    1.0       0.00                 0                         0   \n",
       "18830    3.0   62415.00                 0                         0   \n",
       "18831    2.0  325829.79                 0                         0   \n",
       "18832    2.0  288416.70                 0                         0   \n",
       "18833    1.0       0.00                 0                         0   \n",
       "\n",
       "       color_type_Black Tabby  ...  days_0.0  days_1.0  days_2.0  days_3.0  \\\n",
       "0                           0  ...         1         0         0         0   \n",
       "1                           0  ...         0         0         0         0   \n",
       "2                           0  ...         0         0         0         0   \n",
       "3                           0  ...         0         0         0         0   \n",
       "4                           0  ...         1         0         0         0   \n",
       "...                       ...  ...       ...       ...       ...       ...   \n",
       "18829                       0  ...         0         0         0         0   \n",
       "18830                       0  ...         0         0         0         0   \n",
       "18831                       0  ...         0         0         0         0   \n",
       "18832                       0  ...         0         0         0         1   \n",
       "18833                       0  ...         0         0         0         0   \n",
       "\n",
       "       days_4.0  days_5.0  days_6.0  days_7.0  days_8.0  days_9.0  \n",
       "0             0         0         0         0         0         0  \n",
       "1             0         0         0         0         1         0  \n",
       "2             0         0         1         0         0         0  \n",
       "3             0         0         1         0         0         0  \n",
       "4             0         0         0         0         0         0  \n",
       "...         ...       ...       ...       ...       ...       ...  \n",
       "18829         0         1         0         0         0         0  \n",
       "18830         1         0         0         0         0         0  \n",
       "18831         0         0         0         0         0         1  \n",
       "18832         0         0         0         0         0         0  \n",
       "18833         0         0         0         0         0         1  \n",
       "\n",
       "[18834 rows x 106 columns]"
      ]
     },
     "execution_count": 15,
     "metadata": {},
     "output_type": "execute_result"
    }
   ],
   "source": [
    "fe_train_x"
   ]
  },
  {
   "cell_type": "code",
   "execution_count": 16,
   "metadata": {},
   "outputs": [
    {
     "data": {
      "text/plain": [
       "Index(['X2', 'condition', 'issue_date', 'listing_date', 'pet_id', 'x1mx2',\n",
       "       'lhx1x2', 'color_type_Black', 'color_type_Black Brindle',\n",
       "       'color_type_Black Tabby',\n",
       "       ...\n",
       "       'days_0.0', 'days_1.0', 'days_2.0', 'days_3.0', 'days_4.0', 'days_5.0',\n",
       "       'days_6.0', 'days_7.0', 'days_8.0', 'days_9.0'],\n",
       "      dtype='object', length=106)"
      ]
     },
     "execution_count": 16,
     "metadata": {},
     "output_type": "execute_result"
    }
   ],
   "source": [
    "fe_train_x.columns"
   ]
  },
  {
   "cell_type": "code",
   "execution_count": 17,
   "metadata": {
    "scrolled": false
   },
   "outputs": [
    {
     "data": {
      "text/plain": [
       "0         Brown Tabby\n",
       "1               White\n",
       "2               Brown\n",
       "3               White\n",
       "4               Black\n",
       "             ...     \n",
       "18829        Tricolor\n",
       "18830           Brown\n",
       "18831    Calico Point\n",
       "18832             Tan\n",
       "18833           Brown\n",
       "Name: color_type, Length: 18834, dtype: object"
      ]
     },
     "execution_count": 17,
     "metadata": {},
     "output_type": "execute_result"
    }
   ],
   "source": [
    "train.color_type"
   ]
  },
  {
   "cell_type": "raw",
   "metadata": {},
   "source": [
    "train.loc[]"
   ]
  },
  {
   "cell_type": "code",
   "execution_count": 18,
   "metadata": {},
   "outputs": [],
   "source": [
    "fe_test_x  = feature_engine(test,test = True)"
   ]
  },
  {
   "cell_type": "code",
   "execution_count": 19,
   "metadata": {},
   "outputs": [
    {
     "data": {
      "text/plain": [
       "Index(['pet_id', 'issue_date', 'listing_date', 'condition', 'X2', 'x1mx2',\n",
       "       'lhx1x2', 'color_type_Black', 'color_type_Black Brindle',\n",
       "       'color_type_Black Tabby',\n",
       "       ...\n",
       "       'days_0.0', 'days_1.0', 'days_2.0', 'days_3.0', 'days_4.0', 'days_5.0',\n",
       "       'days_6.0', 'days_7.0', 'days_8.0', 'days_9.0'],\n",
       "      dtype='object', length=105)"
      ]
     },
     "execution_count": 19,
     "metadata": {},
     "output_type": "execute_result"
    }
   ],
   "source": [
    "fe_test_x.columns"
   ]
  },
  {
   "cell_type": "code",
   "execution_count": 20,
   "metadata": {},
   "outputs": [],
   "source": [
    "missing_list = list(set(fe_train_x.columns)-set(fe_test_x.columns))"
   ]
  },
  {
   "cell_type": "code",
   "execution_count": 21,
   "metadata": {},
   "outputs": [],
   "source": [
    "from catboost import CatBoostClassifier\n",
    "from sklearn.ensemble import RandomForestClassifier\n",
    "from sklearn.naive_bayes import GaussianNB\n",
    "from sklearn.tree import ExtraTreeClassifier\n",
    "from lightgbm import LGBMClassifier\n",
    "from sklearn.linear_model import LogisticRegression"
   ]
  },
  {
   "cell_type": "code",
   "execution_count": 22,
   "metadata": {},
   "outputs": [],
   "source": [
    "model_breed    = XGBClassifier(n_estimators=1500,n_jobs=-1,learning_rate=.05,verbosity=1)\n",
    "model_pet_cat  = XGBClassifier(n_estimators=1500,n_jobs=-1,learning_rate=.05,verbosity=1)\n",
    "# from sklearn.svm import SVC\n",
    "# model_breed    = SVC()\n",
    "# model_pet_cat  = SVC()\n",
    "# model_breed    = CatBoostClassifier(iterations=2000,learning_rate=.01)\n",
    "# model_pet_cat  = CatBoostClassifier(iterations=2000,learning_rate=.01)\n",
    "# model_breed    = XGBClassifier(n_estimators=1500,n_jobs=-1,class_weight=\"balanced_subsample\")\n",
    "# model_pet_cat  = XGBClassifier(n_estimators=1500,n_jobs=-1,class_weight=\"balanced_subsample\")\n",
    "# model_breed  = ExtraTreeClassifier()\n",
    "# model_pet_cat =  ExtraTreeClassifier()\n",
    "# model_breed    = LogisticRegression()\n",
    "# model_pet_cat  = LogisticRegression()"
   ]
  },
  {
   "cell_type": "code",
   "execution_count": 23,
   "metadata": {},
   "outputs": [],
   "source": [
    "use_cols = fe_train_x.columns.difference([\"issue_date\",\"listing_date\",\"pet_id\"])\n",
    "\n",
    "for col in missing_list:\n",
    "    fe_test_x[col] = 0"
   ]
  },
  {
   "cell_type": "code",
   "execution_count": 24,
   "metadata": {
    "scrolled": true
   },
   "outputs": [
    {
     "data": {
      "text/plain": [
       "XGBClassifier(learning_rate=0.05, n_estimators=1500, n_jobs=-1,\n",
       "              objective='multi:softprob')"
      ]
     },
     "execution_count": 24,
     "metadata": {},
     "output_type": "execute_result"
    }
   ],
   "source": [
    "model_breed.fit(fe_train_x[use_cols].values,train_y[\"breed_category\"].values)\n",
    "model_pet_cat.fit(fe_train_x[use_cols].values,train_y[\"pet_category\"].values)"
   ]
  },
  {
   "cell_type": "code",
   "execution_count": 26,
   "metadata": {},
   "outputs": [],
   "source": [
    "submission_df = pd.DataFrame()\n",
    "submission_df[\"pet_id\"] =  fe_test_x[\"pet_id\"]\n",
    "submission_df[\"breed_category\"] = model_breed.predict(fe_test_x[use_cols].values)\n",
    "submission_df[\"pet_category\"]   = model_pet_cat.predict(fe_test_x[use_cols].values)"
   ]
  },
  {
   "cell_type": "code",
   "execution_count": 27,
   "metadata": {},
   "outputs": [],
   "source": [
    "submission_df.to_csv(\"submission_xgb_ran3.csv\",index=False)\n",
    "#35 best"
   ]
  },
  {
   "cell_type": "markdown",
   "metadata": {},
   "source": [
    "# Inference"
   ]
  },
  {
   "cell_type": "code",
   "execution_count": null,
   "metadata": {},
   "outputs": [],
   "source": [
    "pd.crosstab(submission_df[\"pet_category\"],submission_df[\"breed_category\"])"
   ]
  },
  {
   "cell_type": "code",
   "execution_count": 67,
   "metadata": {},
   "outputs": [],
   "source": [
    "def ensemble_submissions():\n",
    "#     sub_list = glob.glob(\"*.csv\")\n",
    "#     print(sub_list)\n",
    "    sub_list  = [\"ensemble_ensemble_fold_breed.csv\",\"ensemble_breed.csv\",]\n",
    "    list_df = [] \n",
    "    for sub in sub_list:\n",
    "        df =  pd.read_csv(sub)\n",
    "        list_df.append(df)\n",
    "    final_df =  pd.DataFrame()\n",
    "    final_df[\"pet_id\"] = list_df[0][\"pet_id\"]\n",
    "    ensemble_submission = list_df[0]\n",
    "    for sub in list_df[1:]:\n",
    "        ensemble_submission =  pd.merge(ensemble_submission,sub,on=\"pet_id\")\n",
    "    column_list         = ensemble_submission.columns.to_list()\n",
    "    pet_catergory_list  = [x for x in column_list if((x.split(\"_\")[0]==\"pet\")&(x.split(\"_\")[-1]!=\"id\"))]\n",
    "    breed_category_list  = [x for x in column_list if((x.split(\"_\")[0]==\"breed\"))]\n",
    "    final_df[\"breed_category\"] = ensemble_submission[breed_category_list].mode(axis=1)[0].values\n",
    "    final_df[\"pet_category\"]   = ensemble_submission[pet_catergory_list].mode(axis=1)[0].values\n",
    "    return final_df\n"
   ]
  },
  {
   "cell_type": "code",
   "execution_count": 68,
   "metadata": {},
   "outputs": [],
   "source": [
    "fdf = ensemble_submissions()"
   ]
  },
  {
   "cell_type": "code",
   "execution_count": 69,
   "metadata": {},
   "outputs": [],
   "source": [
    "fdf.to_csv(\"ensemble_breed_1.csv\",index=False)\n",
    "#best ensemble_ensemble_fold_breed"
   ]
  },
  {
   "cell_type": "code",
   "execution_count": 28,
   "metadata": {},
   "outputs": [],
   "source": [
    "imp_df = pd.DataFrame({\"columns\":fe_train_x.columns.difference([\"pet_id\",\"issue_date\",\"listing_date\"]),\"impor_br\":model_breed.feature_importances_,\"impor_pc\":model_pet_cat.feature_importances_})"
   ]
  },
  {
   "cell_type": "code",
   "execution_count": 29,
   "metadata": {},
   "outputs": [],
   "source": [
    "pcr = imp_df.sort_values(\"impor_pc\",ascending=False)"
   ]
  },
  {
   "cell_type": "code",
   "execution_count": 30,
   "metadata": {},
   "outputs": [
    {
     "data": {
      "text/html": [
       "<div>\n",
       "<style scoped>\n",
       "    .dataframe tbody tr th:only-of-type {\n",
       "        vertical-align: middle;\n",
       "    }\n",
       "\n",
       "    .dataframe tbody tr th {\n",
       "        vertical-align: top;\n",
       "    }\n",
       "\n",
       "    .dataframe thead th {\n",
       "        text-align: right;\n",
       "    }\n",
       "</style>\n",
       "<table border=\"1\" class=\"dataframe\">\n",
       "  <thead>\n",
       "    <tr style=\"text-align: right;\">\n",
       "      <th></th>\n",
       "      <th>columns</th>\n",
       "      <th>impor_br</th>\n",
       "      <th>impor_pc</th>\n",
       "    </tr>\n",
       "  </thead>\n",
       "  <tbody>\n",
       "    <tr>\n",
       "      <th>99</th>\n",
       "      <td>x1x2_0.0</td>\n",
       "      <td>0.000000</td>\n",
       "      <td>0.219039</td>\n",
       "    </tr>\n",
       "    <tr>\n",
       "      <th>6</th>\n",
       "      <td>X1_15</td>\n",
       "      <td>0.270706</td>\n",
       "      <td>0.111307</td>\n",
       "    </tr>\n",
       "    <tr>\n",
       "      <th>29</th>\n",
       "      <td>color_type_Brown Tabby</td>\n",
       "      <td>0.000992</td>\n",
       "      <td>0.099132</td>\n",
       "    </tr>\n",
       "    <tr>\n",
       "      <th>40</th>\n",
       "      <td>color_type_Orange Tabby</td>\n",
       "      <td>0.006730</td>\n",
       "      <td>0.053924</td>\n",
       "    </tr>\n",
       "    <tr>\n",
       "      <th>45</th>\n",
       "      <td>color_type_Tan</td>\n",
       "      <td>0.003483</td>\n",
       "      <td>0.045733</td>\n",
       "    </tr>\n",
       "    <tr>\n",
       "      <th>...</th>\n",
       "      <td>...</td>\n",
       "      <td>...</td>\n",
       "      <td>...</td>\n",
       "    </tr>\n",
       "    <tr>\n",
       "      <th>94</th>\n",
       "      <td>x1px2_0.0</td>\n",
       "      <td>0.000000</td>\n",
       "      <td>0.000000</td>\n",
       "    </tr>\n",
       "    <tr>\n",
       "      <th>10</th>\n",
       "      <td>X1_19</td>\n",
       "      <td>0.000000</td>\n",
       "      <td>0.000000</td>\n",
       "    </tr>\n",
       "    <tr>\n",
       "      <th>13</th>\n",
       "      <td>X1_5</td>\n",
       "      <td>0.000000</td>\n",
       "      <td>0.000000</td>\n",
       "    </tr>\n",
       "    <tr>\n",
       "      <th>2</th>\n",
       "      <td>X1_10</td>\n",
       "      <td>0.000106</td>\n",
       "      <td>0.000000</td>\n",
       "    </tr>\n",
       "    <tr>\n",
       "      <th>18</th>\n",
       "      <td>X1_Other</td>\n",
       "      <td>0.000141</td>\n",
       "      <td>0.000000</td>\n",
       "    </tr>\n",
       "  </tbody>\n",
       "</table>\n",
       "<p>103 rows × 3 columns</p>\n",
       "</div>"
      ],
      "text/plain": [
       "                    columns  impor_br  impor_pc\n",
       "99                 x1x2_0.0  0.000000  0.219039\n",
       "6                     X1_15  0.270706  0.111307\n",
       "29   color_type_Brown Tabby  0.000992  0.099132\n",
       "40  color_type_Orange Tabby  0.006730  0.053924\n",
       "45           color_type_Tan  0.003483  0.045733\n",
       "..                      ...       ...       ...\n",
       "94                x1px2_0.0  0.000000  0.000000\n",
       "10                    X1_19  0.000000  0.000000\n",
       "13                     X1_5  0.000000  0.000000\n",
       "2                     X1_10  0.000106  0.000000\n",
       "18                 X1_Other  0.000141  0.000000\n",
       "\n",
       "[103 rows x 3 columns]"
      ]
     },
     "execution_count": 30,
     "metadata": {},
     "output_type": "execute_result"
    }
   ],
   "source": [
    "pcr"
   ]
  },
  {
   "cell_type": "code",
   "execution_count": 31,
   "metadata": {},
   "outputs": [],
   "source": [
    "feature_pc = pcr[\"columns\"].to_list()[:75]"
   ]
  },
  {
   "cell_type": "code",
   "execution_count": null,
   "metadata": {},
   "outputs": [],
   "source": [
    "feature_br"
   ]
  },
  {
   "cell_type": "code",
   "execution_count": 32,
   "metadata": {},
   "outputs": [],
   "source": [
    "br = imp_df.sort_values(\"impor_br\",ascending=False)"
   ]
  },
  {
   "cell_type": "code",
   "execution_count": 33,
   "metadata": {},
   "outputs": [
    {
     "data": {
      "text/html": [
       "<div>\n",
       "<style scoped>\n",
       "    .dataframe tbody tr th:only-of-type {\n",
       "        vertical-align: middle;\n",
       "    }\n",
       "\n",
       "    .dataframe tbody tr th {\n",
       "        vertical-align: top;\n",
       "    }\n",
       "\n",
       "    .dataframe thead th {\n",
       "        text-align: right;\n",
       "    }\n",
       "</style>\n",
       "<table border=\"1\" class=\"dataframe\">\n",
       "  <thead>\n",
       "    <tr style=\"text-align: right;\">\n",
       "      <th></th>\n",
       "      <th>columns</th>\n",
       "      <th>impor_br</th>\n",
       "      <th>impor_pc</th>\n",
       "    </tr>\n",
       "  </thead>\n",
       "  <tbody>\n",
       "    <tr>\n",
       "      <th>51</th>\n",
       "      <td>condition</td>\n",
       "      <td>0.470366</td>\n",
       "      <td>0.005582</td>\n",
       "    </tr>\n",
       "    <tr>\n",
       "      <th>6</th>\n",
       "      <td>X1_15</td>\n",
       "      <td>0.270706</td>\n",
       "      <td>0.111307</td>\n",
       "    </tr>\n",
       "    <tr>\n",
       "      <th>9</th>\n",
       "      <td>X1_18</td>\n",
       "      <td>0.035480</td>\n",
       "      <td>0.002090</td>\n",
       "    </tr>\n",
       "    <tr>\n",
       "      <th>52</th>\n",
       "      <td>days_0.0</td>\n",
       "      <td>0.023712</td>\n",
       "      <td>0.014109</td>\n",
       "    </tr>\n",
       "    <tr>\n",
       "      <th>47</th>\n",
       "      <td>color_type_Tortie</td>\n",
       "      <td>0.015149</td>\n",
       "      <td>0.020275</td>\n",
       "    </tr>\n",
       "    <tr>\n",
       "      <th>...</th>\n",
       "      <td>...</td>\n",
       "      <td>...</td>\n",
       "      <td>...</td>\n",
       "    </tr>\n",
       "    <tr>\n",
       "      <th>13</th>\n",
       "      <td>X1_5</td>\n",
       "      <td>0.000000</td>\n",
       "      <td>0.000000</td>\n",
       "    </tr>\n",
       "    <tr>\n",
       "      <th>94</th>\n",
       "      <td>x1px2_0.0</td>\n",
       "      <td>0.000000</td>\n",
       "      <td>0.000000</td>\n",
       "    </tr>\n",
       "    <tr>\n",
       "      <th>4</th>\n",
       "      <td>X1_12</td>\n",
       "      <td>0.000000</td>\n",
       "      <td>0.001750</td>\n",
       "    </tr>\n",
       "    <tr>\n",
       "      <th>10</th>\n",
       "      <td>X1_19</td>\n",
       "      <td>0.000000</td>\n",
       "      <td>0.000000</td>\n",
       "    </tr>\n",
       "    <tr>\n",
       "      <th>12</th>\n",
       "      <td>X1_4</td>\n",
       "      <td>0.000000</td>\n",
       "      <td>0.000305</td>\n",
       "    </tr>\n",
       "  </tbody>\n",
       "</table>\n",
       "<p>103 rows × 3 columns</p>\n",
       "</div>"
      ],
      "text/plain": [
       "              columns  impor_br  impor_pc\n",
       "51          condition  0.470366  0.005582\n",
       "6               X1_15  0.270706  0.111307\n",
       "9               X1_18  0.035480  0.002090\n",
       "52           days_0.0  0.023712  0.014109\n",
       "47  color_type_Tortie  0.015149  0.020275\n",
       "..                ...       ...       ...\n",
       "13               X1_5  0.000000  0.000000\n",
       "94          x1px2_0.0  0.000000  0.000000\n",
       "4               X1_12  0.000000  0.001750\n",
       "10              X1_19  0.000000  0.000000\n",
       "12               X1_4  0.000000  0.000305\n",
       "\n",
       "[103 rows x 3 columns]"
      ]
     },
     "execution_count": 33,
     "metadata": {},
     "output_type": "execute_result"
    }
   ],
   "source": [
    "br"
   ]
  },
  {
   "cell_type": "code",
   "execution_count": 34,
   "metadata": {},
   "outputs": [],
   "source": [
    "feature_br = br[\"columns\"].to_list()[:100]"
   ]
  },
  {
   "cell_type": "code",
   "execution_count": null,
   "metadata": {},
   "outputs": [],
   "source": [
    "feature_br"
   ]
  },
  {
   "cell_type": "code",
   "execution_count": null,
   "metadata": {},
   "outputs": [],
   "source": [
    "imp_df"
   ]
  },
  {
   "cell_type": "code",
   "execution_count": null,
   "metadata": {},
   "outputs": [],
   "source": [
    "#convert continous features to bins\n",
    "#try catboost\n",
    "#try kfold CV and train multiple models\n",
    "#try oversampled model small class pc\n",
    "#prepare documentation"
   ]
  },
  {
   "cell_type": "code",
   "execution_count": null,
   "metadata": {},
   "outputs": [],
   "source": [
    "train.pet_category.value_counts()"
   ]
  },
  {
   "cell_type": "code",
   "execution_count": 56,
   "metadata": {},
   "outputs": [],
   "source": [
    "from imblearn.over_sampling import SMOTE"
   ]
  },
  {
   "cell_type": "code",
   "execution_count": 57,
   "metadata": {},
   "outputs": [],
   "source": [
    "sm = SMOTE()"
   ]
  },
  {
   "cell_type": "code",
   "execution_count": null,
   "metadata": {},
   "outputs": [],
   "source": [
    "print(train_x_cols )"
   ]
  },
  {
   "cell_type": "code",
   "execution_count": null,
   "metadata": {},
   "outputs": [],
   "source": [
    "train_x,train_y = sm.fit_resample(fe_train_x[use_cols].values,train[\"pet_category\"].values)"
   ]
  },
  {
   "cell_type": "code",
   "execution_count": null,
   "metadata": {},
   "outputs": [],
   "source": [
    "list(train_y).count(0),list(train_y).count(4),list(train_y).count(2),list(train_y).count(1)"
   ]
  },
  {
   "cell_type": "code",
   "execution_count": null,
   "metadata": {},
   "outputs": [],
   "source": [
    "xgb_oversample =  XGBClassifier(n_estimators=300,n_jobs=-1,learning_rate=.05,verbosity=1)"
   ]
  },
  {
   "cell_type": "code",
   "execution_count": null,
   "metadata": {},
   "outputs": [],
   "source": [
    "xgb_oversample.fit(train_x,train_y)"
   ]
  },
  {
   "cell_type": "code",
   "execution_count": 73,
   "metadata": {},
   "outputs": [],
   "source": [
    "sub =  pd.read_csv(\"ensemble_ensemble_fold_breed.csv\")"
   ]
  },
  {
   "cell_type": "code",
   "execution_count": null,
   "metadata": {},
   "outputs": [],
   "source": [
    "sub[\"pet_category\"] = xgb_oversample.predict(fe_test_x[use_cols].values)"
   ]
  },
  {
   "cell_type": "code",
   "execution_count": null,
   "metadata": {},
   "outputs": [],
   "source": [
    "sub.to_csv(\"undersample_pet.csv\",index=False)"
   ]
  },
  {
   "cell_type": "code",
   "execution_count": 38,
   "metadata": {},
   "outputs": [],
   "source": [
    "from sklearn.model_selection import StratifiedKFold\n",
    "from sklearn.model_selection import cross_val_score"
   ]
  },
  {
   "cell_type": "code",
   "execution_count": 39,
   "metadata": {},
   "outputs": [],
   "source": [
    "skf =  StratifiedKFold(n_splits=5)"
   ]
  },
  {
   "cell_type": "code",
   "execution_count": 40,
   "metadata": {},
   "outputs": [],
   "source": [
    "from sklearn.metrics import classification_report"
   ]
  },
  {
   "cell_type": "code",
   "execution_count": 70,
   "metadata": {},
   "outputs": [],
   "source": [
    "X = fe_train_x[use_cols].values"
   ]
  },
  {
   "cell_type": "code",
   "execution_count": 71,
   "metadata": {},
   "outputs": [],
   "source": [
    "y = train[\"pet_category\"].values"
   ]
  },
  {
   "cell_type": "code",
   "execution_count": 72,
   "metadata": {
    "scrolled": true
   },
   "outputs": [
    {
     "name": "stdout",
     "output_type": "stream",
     "text": [
      "Running Process for Fold 1\n",
      "              precision    recall  f1-score   support\n",
      "\n",
      "           0       0.29      0.24      0.26        17\n",
      "           1       0.90      0.85      0.87      1437\n",
      "           2       0.89      0.94      0.91      2124\n",
      "           4       0.93      0.74      0.82       189\n",
      "\n",
      "    accuracy                           0.89      3767\n",
      "   macro avg       0.75      0.69      0.72      3767\n",
      "weighted avg       0.89      0.89      0.89      3767\n",
      "\n",
      "Running Process for Fold 2\n",
      "              precision    recall  f1-score   support\n",
      "\n",
      "           0       0.38      0.44      0.41        18\n",
      "           1       0.90      0.85      0.87      1437\n",
      "           2       0.89      0.93      0.91      2124\n",
      "           4       0.92      0.81      0.86       188\n",
      "\n",
      "    accuracy                           0.89      3767\n",
      "   macro avg       0.77      0.76      0.76      3767\n",
      "weighted avg       0.89      0.89      0.89      3767\n",
      "\n",
      "Running Process for Fold 3\n",
      "              precision    recall  f1-score   support\n",
      "\n",
      "           0       0.25      0.22      0.24        18\n",
      "           1       0.91      0.85      0.88      1437\n",
      "           2       0.89      0.94      0.92      2124\n",
      "           4       0.87      0.76      0.81       188\n",
      "\n",
      "    accuracy                           0.89      3767\n",
      "   macro avg       0.73      0.69      0.71      3767\n",
      "weighted avg       0.89      0.89      0.89      3767\n",
      "\n",
      "Running Process for Fold 4\n",
      "              precision    recall  f1-score   support\n",
      "\n",
      "           0       0.30      0.33      0.32        18\n",
      "           1       0.90      0.84      0.87      1437\n",
      "           2       0.88      0.94      0.91      2124\n",
      "           4       0.89      0.74      0.81       188\n",
      "\n",
      "    accuracy                           0.89      3767\n",
      "   macro avg       0.74      0.71      0.73      3767\n",
      "weighted avg       0.89      0.89      0.89      3767\n",
      "\n",
      "Running Process for Fold 5\n",
      "              precision    recall  f1-score   support\n",
      "\n",
      "           0       0.18      0.18      0.18        17\n",
      "           1       0.92      0.84      0.88      1436\n",
      "           2       0.89      0.95      0.92      2125\n",
      "           4       0.89      0.74      0.81       188\n",
      "\n",
      "    accuracy                           0.89      3766\n",
      "   macro avg       0.72      0.68      0.70      3766\n",
      "weighted avg       0.90      0.89      0.89      3766\n",
      "\n"
     ]
    }
   ],
   "source": [
    "model_list  = []\n",
    "i= 1\n",
    "for train_ix, test_ix in skf.split(X, y):\n",
    "    print(\"Running Process for Fold {}\".format(i))\n",
    "    i+=1\n",
    "    train_X, test_X = X[train_ix], X[test_ix]\n",
    "    train_y, test_y = y[train_ix], y[test_ix]\n",
    "    model_1 = XGBClassifier(n_estimators=1500,n_jobs=-1,learning_rate=.03,verbosity=1)\n",
    "    train_X,train_y = sm.fit_resample(train_X,train_y)\n",
    "    model_1.fit(train_X,train_y)\n",
    "    model_list.append(model_1)    \n",
    "    print(classification_report(test_y,model_1.predict(test_X)))"
   ]
  },
  {
   "cell_type": "code",
   "execution_count": 44,
   "metadata": {},
   "outputs": [],
   "source": [
    " for idx,model in enumerate(model_list):\n",
    "        sub[\"pet_category\"] =  model.predict(fe_test_x[feature_pc].values)\n",
    "        sub.to_csv(\"Submission_fold_pet_exp_{}.csv\".format(idx),index=False)"
   ]
  },
  {
   "cell_type": "code",
   "execution_count": null,
   "metadata": {},
   "outputs": [],
   "source": [
    "model_pet_cat.feature_importances_"
   ]
  },
  {
   "cell_type": "code",
   "execution_count": null,
   "metadata": {},
   "outputs": [],
   "source": []
  }
 ],
 "metadata": {
  "kernelspec": {
   "display_name": "notebookenv",
   "language": "python",
   "name": "notebookenv"
  },
  "language_info": {
   "codemirror_mode": {
    "name": "ipython",
    "version": 3
   },
   "file_extension": ".py",
   "mimetype": "text/x-python",
   "name": "python",
   "nbconvert_exporter": "python",
   "pygments_lexer": "ipython3",
   "version": "3.6.8"
  }
 },
 "nbformat": 4,
 "nbformat_minor": 2
}
