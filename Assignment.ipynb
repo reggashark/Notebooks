{
 "cells": [
  {
   "cell_type": "markdown",
   "metadata": {},
   "source": [
    "# Imports basic libraries and Datasets"
   ]
  },
  {
   "cell_type": "code",
   "execution_count": 36,
   "metadata": {
    "collapsed": true
   },
   "outputs": [],
   "source": [
    "import pandas as pd\n",
    "import numpy as np\n",
    "\n",
    "#the files are kept in the same folder as notebook\n",
    "category_df = pd.read_csv('category.csv')\n",
    "features_df = pd.read_csv('features.csv')\n",
    "train_df = pd.read_csv('TRAINFINAL.csv')\n",
    "test_df = pd.read_csv('TESTFINAL.csv')\n"
   ]
  },
  {
   "cell_type": "markdown",
   "metadata": {},
   "source": [
    "# Basic Dataset Exploration"
   ]
  },
  {
   "cell_type": "code",
   "execution_count": 2,
   "metadata": {},
   "outputs": [
    {
     "data": {
      "text/html": [
       "<div>\n",
       "<style>\n",
       "    .dataframe thead tr:only-child th {\n",
       "        text-align: right;\n",
       "    }\n",
       "\n",
       "    .dataframe thead th {\n",
       "        text-align: left;\n",
       "    }\n",
       "\n",
       "    .dataframe tbody tr th {\n",
       "        vertical-align: top;\n",
       "    }\n",
       "</style>\n",
       "<table border=\"1\" class=\"dataframe\">\n",
       "  <thead>\n",
       "    <tr style=\"text-align: right;\">\n",
       "      <th></th>\n",
       "      <th>Category</th>\n",
       "      <th>category type</th>\n",
       "      <th>No. of products</th>\n",
       "    </tr>\n",
       "  </thead>\n",
       "  <tbody>\n",
       "    <tr>\n",
       "      <th>0</th>\n",
       "      <td>1</td>\n",
       "      <td>A</td>\n",
       "      <td>151</td>\n",
       "    </tr>\n",
       "    <tr>\n",
       "      <th>1</th>\n",
       "      <td>2</td>\n",
       "      <td>A</td>\n",
       "      <td>202</td>\n",
       "    </tr>\n",
       "    <tr>\n",
       "      <th>2</th>\n",
       "      <td>3</td>\n",
       "      <td>B</td>\n",
       "      <td>37</td>\n",
       "    </tr>\n",
       "    <tr>\n",
       "      <th>3</th>\n",
       "      <td>4</td>\n",
       "      <td>A</td>\n",
       "      <td>206</td>\n",
       "    </tr>\n",
       "    <tr>\n",
       "      <th>4</th>\n",
       "      <td>5</td>\n",
       "      <td>B</td>\n",
       "      <td>35</td>\n",
       "    </tr>\n",
       "  </tbody>\n",
       "</table>\n",
       "</div>"
      ],
      "text/plain": [
       "   Category category type  No. of products\n",
       "0         1             A              151\n",
       "1         2             A              202\n",
       "2         3             B               37\n",
       "3         4             A              206\n",
       "4         5             B               35"
      ]
     },
     "execution_count": 2,
     "metadata": {},
     "output_type": "execute_result"
    }
   ],
   "source": [
    "category_df.head()"
   ]
  },
  {
   "cell_type": "code",
   "execution_count": 4,
   "metadata": {},
   "outputs": [
    {
     "data": {
      "text/html": [
       "<div>\n",
       "<style>\n",
       "    .dataframe thead tr:only-child th {\n",
       "        text-align: right;\n",
       "    }\n",
       "\n",
       "    .dataframe thead th {\n",
       "        text-align: left;\n",
       "    }\n",
       "\n",
       "    .dataframe tbody tr th {\n",
       "        vertical-align: top;\n",
       "    }\n",
       "</style>\n",
       "<table border=\"1\" class=\"dataframe\">\n",
       "  <thead>\n",
       "    <tr style=\"text-align: right;\">\n",
       "      <th></th>\n",
       "      <th>Category</th>\n",
       "      <th>Date</th>\n",
       "      <th>delivery charge</th>\n",
       "      <th>Promtion1</th>\n",
       "      <th>Promtion2</th>\n",
       "      <th>Promtion3</th>\n",
       "      <th>Ad spend</th>\n",
       "      <th>App time</th>\n",
       "      <th>IsHoliday</th>\n",
       "    </tr>\n",
       "  </thead>\n",
       "  <tbody>\n",
       "    <tr>\n",
       "      <th>0</th>\n",
       "      <td>1</td>\n",
       "      <td>05/02/10</td>\n",
       "      <td>2.572</td>\n",
       "      <td>NaN</td>\n",
       "      <td>NaN</td>\n",
       "      <td>NaN</td>\n",
       "      <td>211.096358</td>\n",
       "      <td>0.123365408</td>\n",
       "      <td>False</td>\n",
       "    </tr>\n",
       "    <tr>\n",
       "      <th>1</th>\n",
       "      <td>1</td>\n",
       "      <td>12/02/10</td>\n",
       "      <td>2.548</td>\n",
       "      <td>NaN</td>\n",
       "      <td>NaN</td>\n",
       "      <td>NaN</td>\n",
       "      <td>211.242170</td>\n",
       "      <td>0.123365408</td>\n",
       "      <td>True</td>\n",
       "    </tr>\n",
       "    <tr>\n",
       "      <th>2</th>\n",
       "      <td>1</td>\n",
       "      <td>19/02/10</td>\n",
       "      <td>2.514</td>\n",
       "      <td>NaN</td>\n",
       "      <td>NaN</td>\n",
       "      <td>NaN</td>\n",
       "      <td>211.289143</td>\n",
       "      <td>0.123365408</td>\n",
       "      <td>False</td>\n",
       "    </tr>\n",
       "    <tr>\n",
       "      <th>3</th>\n",
       "      <td>1</td>\n",
       "      <td>26/02/10</td>\n",
       "      <td>2.561</td>\n",
       "      <td>NaN</td>\n",
       "      <td>NaN</td>\n",
       "      <td>NaN</td>\n",
       "      <td>211.319643</td>\n",
       "      <td>0.123365408</td>\n",
       "      <td>False</td>\n",
       "    </tr>\n",
       "    <tr>\n",
       "      <th>4</th>\n",
       "      <td>1</td>\n",
       "      <td>05/03/10</td>\n",
       "      <td>2.625</td>\n",
       "      <td>NaN</td>\n",
       "      <td>NaN</td>\n",
       "      <td>NaN</td>\n",
       "      <td>211.350143</td>\n",
       "      <td>0.123365408</td>\n",
       "      <td>False</td>\n",
       "    </tr>\n",
       "  </tbody>\n",
       "</table>\n",
       "</div>"
      ],
      "text/plain": [
       "   Category      Date  delivery charge  Promtion1  Promtion2  Promtion3  \\\n",
       "0         1  05/02/10            2.572        NaN        NaN        NaN   \n",
       "1         1  12/02/10            2.548        NaN        NaN        NaN   \n",
       "2         1  19/02/10            2.514        NaN        NaN        NaN   \n",
       "3         1  26/02/10            2.561        NaN        NaN        NaN   \n",
       "4         1  05/03/10            2.625        NaN        NaN        NaN   \n",
       "\n",
       "     Ad spend     App time  IsHoliday  \n",
       "0  211.096358  0.123365408      False  \n",
       "1  211.242170  0.123365408       True  \n",
       "2  211.289143  0.123365408      False  \n",
       "3  211.319643  0.123365408      False  \n",
       "4  211.350143  0.123365408      False  "
      ]
     },
     "execution_count": 4,
     "metadata": {},
     "output_type": "execute_result"
    }
   ],
   "source": [
    "features_df.head()\n",
    "#from above two tables using Category as common ID we can join the feature \n",
    "#dataframe with category dataframe"
   ]
  },
  {
   "cell_type": "code",
   "execution_count": 5,
   "metadata": {
    "collapsed": true
   },
   "outputs": [],
   "source": [
    "category_features =  pd.merge(category_df,features_df,on='Category')"
   ]
  },
  {
   "cell_type": "code",
   "execution_count": 8,
   "metadata": {},
   "outputs": [
    {
     "data": {
      "text/plain": [
       "(5460, 30, 5460)"
      ]
     },
     "execution_count": 8,
     "metadata": {},
     "output_type": "execute_result"
    }
   ],
   "source": [
    "len(features_df),len(category_df),len(category_features)"
   ]
  },
  {
   "cell_type": "code",
   "execution_count": 9,
   "metadata": {},
   "outputs": [
    {
     "data": {
      "text/plain": [
       "Category              0\n",
       "category type         0\n",
       "No. of products       0\n",
       "Date                  0\n",
       "delivery charge       0\n",
       "Promtion1          2762\n",
       "Promtion2          3340\n",
       "Promtion3          2927\n",
       "Ad spend            390\n",
       "App time             13\n",
       "IsHoliday             0\n",
       "dtype: int64"
      ]
     },
     "execution_count": 9,
     "metadata": {},
     "output_type": "execute_result"
    }
   ],
   "source": [
    "#checking for null values in the category_features dataframe\n",
    "category_features.isnull().sum()\n",
    "#almost 50-60% values in promotions are NaN \n",
    "#Promotion types has NAN values - which are considered as discounts \n",
    "#assuming that here discounts given are zero filling these values with zero\n"
   ]
  },
  {
   "cell_type": "code",
   "execution_count": 10,
   "metadata": {
    "collapsed": true
   },
   "outputs": [],
   "source": [
    "category_features.Promtion1.fillna(0,inplace=True)\n",
    "category_features.Promtion2.fillna(0,inplace=True)\n",
    "category_features.Promtion3.fillna(0,inplace=True)"
   ]
  },
  {
   "cell_type": "code",
   "execution_count": 19,
   "metadata": {
    "scrolled": true
   },
   "outputs": [
    {
     "data": {
      "text/html": [
       "<div>\n",
       "<style>\n",
       "    .dataframe thead tr:only-child th {\n",
       "        text-align: right;\n",
       "    }\n",
       "\n",
       "    .dataframe thead th {\n",
       "        text-align: left;\n",
       "    }\n",
       "\n",
       "    .dataframe tbody tr th {\n",
       "        vertical-align: top;\n",
       "    }\n",
       "</style>\n",
       "<table border=\"1\" class=\"dataframe\">\n",
       "  <thead>\n",
       "    <tr style=\"text-align: right;\">\n",
       "      <th></th>\n",
       "      <th>Category</th>\n",
       "      <th>category type</th>\n",
       "      <th>No. of products</th>\n",
       "      <th>Date</th>\n",
       "      <th>delivery charge</th>\n",
       "      <th>Promtion1</th>\n",
       "      <th>Promtion2</th>\n",
       "      <th>Promtion3</th>\n",
       "      <th>Ad spend</th>\n",
       "      <th>App time</th>\n",
       "      <th>IsHoliday</th>\n",
       "    </tr>\n",
       "  </thead>\n",
       "  <tbody>\n",
       "    <tr>\n",
       "      <th>169</th>\n",
       "      <td>1</td>\n",
       "      <td>A</td>\n",
       "      <td>151</td>\n",
       "      <td>03/05/13</td>\n",
       "      <td>3.386</td>\n",
       "      <td>2298.63</td>\n",
       "      <td>2.00</td>\n",
       "      <td>129.90</td>\n",
       "      <td>NaN</td>\n",
       "      <td>#VALUE!</td>\n",
       "      <td>False</td>\n",
       "    </tr>\n",
       "    <tr>\n",
       "      <th>170</th>\n",
       "      <td>1</td>\n",
       "      <td>A</td>\n",
       "      <td>151</td>\n",
       "      <td>10/05/13</td>\n",
       "      <td>3.392</td>\n",
       "      <td>4624.61</td>\n",
       "      <td>83.88</td>\n",
       "      <td>42.38</td>\n",
       "      <td>NaN</td>\n",
       "      <td>#VALUE!</td>\n",
       "      <td>False</td>\n",
       "    </tr>\n",
       "    <tr>\n",
       "      <th>171</th>\n",
       "      <td>1</td>\n",
       "      <td>A</td>\n",
       "      <td>151</td>\n",
       "      <td>17/05/13</td>\n",
       "      <td>3.454</td>\n",
       "      <td>16170.50</td>\n",
       "      <td>92.00</td>\n",
       "      <td>8.32</td>\n",
       "      <td>NaN</td>\n",
       "      <td>#VALUE!</td>\n",
       "      <td>False</td>\n",
       "    </tr>\n",
       "    <tr>\n",
       "      <th>172</th>\n",
       "      <td>1</td>\n",
       "      <td>A</td>\n",
       "      <td>151</td>\n",
       "      <td>24/05/13</td>\n",
       "      <td>3.494</td>\n",
       "      <td>7959.89</td>\n",
       "      <td>178.00</td>\n",
       "      <td>1621.47</td>\n",
       "      <td>NaN</td>\n",
       "      <td>#VALUE!</td>\n",
       "      <td>False</td>\n",
       "    </tr>\n",
       "    <tr>\n",
       "      <th>173</th>\n",
       "      <td>1</td>\n",
       "      <td>A</td>\n",
       "      <td>151</td>\n",
       "      <td>31/05/13</td>\n",
       "      <td>3.466</td>\n",
       "      <td>2369.77</td>\n",
       "      <td>142.45</td>\n",
       "      <td>475.35</td>\n",
       "      <td>NaN</td>\n",
       "      <td>#VALUE!</td>\n",
       "      <td>False</td>\n",
       "    </tr>\n",
       "  </tbody>\n",
       "</table>\n",
       "</div>"
      ],
      "text/plain": [
       "     Category category type  No. of products      Date  delivery charge  \\\n",
       "169         1             A              151  03/05/13            3.386   \n",
       "170         1             A              151  10/05/13            3.392   \n",
       "171         1             A              151  17/05/13            3.454   \n",
       "172         1             A              151  24/05/13            3.494   \n",
       "173         1             A              151  31/05/13            3.466   \n",
       "\n",
       "     Promtion1  Promtion2  Promtion3  Ad spend App time  IsHoliday  \n",
       "169    2298.63       2.00     129.90       NaN  #VALUE!      False  \n",
       "170    4624.61      83.88      42.38       NaN  #VALUE!      False  \n",
       "171   16170.50      92.00       8.32       NaN  #VALUE!      False  \n",
       "172    7959.89     178.00    1621.47       NaN  #VALUE!      False  \n",
       "173    2369.77     142.45     475.35       NaN  #VALUE!      False  "
      ]
     },
     "execution_count": 19,
     "metadata": {},
     "output_type": "execute_result"
    }
   ],
   "source": [
    "\"\"\"Ad spend is NaN in 390 places. Corresponding to each Ad spend value \n",
    "App time is either unknown value or NAN\n",
    "considering that these values are indexes and very small in number compared to dataset we can fill these with mean \n",
    "indexes in corresponding columns\"\"\"\n",
    "category_features[category_features['Ad spend'].isnull()].head()\n"
   ]
  },
  {
   "cell_type": "code",
   "execution_count": 21,
   "metadata": {},
   "outputs": [],
   "source": [
    "category_features['Ad spend'].fillna(category_features['Ad spend'].mean(),inplace=True)"
   ]
  },
  {
   "cell_type": "code",
   "execution_count": 22,
   "metadata": {
    "collapsed": true
   },
   "outputs": [],
   "source": [
    "category_features.loc[category_features['App time']=='#VALUE!','App time']=np.NaN"
   ]
  },
  {
   "cell_type": "code",
   "execution_count": 25,
   "metadata": {},
   "outputs": [
    {
     "data": {
      "text/plain": [
       "dtype('O')"
      ]
     },
     "execution_count": 25,
     "metadata": {},
     "output_type": "execute_result"
    }
   ],
   "source": [
    "#because of the presence of string value the data type converted to Object\n",
    "category_features['App time'].dtype\n"
   ]
  },
  {
   "cell_type": "code",
   "execution_count": 27,
   "metadata": {
    "scrolled": true
   },
   "outputs": [],
   "source": [
    "#converting the datatype to float\n",
    "category_features['App time'] = category_features['App time'].astype(float)"
   ]
  },
  {
   "cell_type": "code",
   "execution_count": 29,
   "metadata": {},
   "outputs": [],
   "source": [
    "#filled this index with mean as well\n",
    "category_features['App time'].fillna(category_features['App time'].mean(),inplace=True)"
   ]
  },
  {
   "cell_type": "code",
   "execution_count": 31,
   "metadata": {},
   "outputs": [
    {
     "data": {
      "text/plain": [
       "Category           0\n",
       "category type      0\n",
       "No. of products    0\n",
       "Date               0\n",
       "delivery charge    0\n",
       "Promtion1          0\n",
       "Promtion2          0\n",
       "Promtion3          0\n",
       "Ad spend           0\n",
       "App time           0\n",
       "IsHoliday          0\n",
       "dtype: int64"
      ]
     },
     "execution_count": 31,
     "metadata": {},
     "output_type": "execute_result"
    }
   ],
   "source": [
    "category_features.isnull().sum()\n",
    "#No Null values in the category feature data_frame"
   ]
  },
  {
   "cell_type": "code",
   "execution_count": 44,
   "metadata": {},
   "outputs": [],
   "source": [
    "train_df.sort_values(['category','sub category'],inplace=True)\n",
    "#weekly GMV is given for category and sub category with IsHoliday label\n",
    "#category spelling starts with small c so renaming the column\n",
    "train_df.rename(columns={'category':'Category'},inplace=True)"
   ]
  },
  {
   "cell_type": "code",
   "execution_count": 45,
   "metadata": {},
   "outputs": [
    {
     "data": {
      "text/html": [
       "<div>\n",
       "<style>\n",
       "    .dataframe thead tr:only-child th {\n",
       "        text-align: right;\n",
       "    }\n",
       "\n",
       "    .dataframe thead th {\n",
       "        text-align: left;\n",
       "    }\n",
       "\n",
       "    .dataframe tbody tr th {\n",
       "        vertical-align: top;\n",
       "    }\n",
       "</style>\n",
       "<table border=\"1\" class=\"dataframe\">\n",
       "  <thead>\n",
       "    <tr style=\"text-align: right;\">\n",
       "      <th></th>\n",
       "      <th>Category</th>\n",
       "      <th>sub category</th>\n",
       "      <th>Date</th>\n",
       "      <th>IsHoliday</th>\n",
       "    </tr>\n",
       "  </thead>\n",
       "  <tbody>\n",
       "    <tr>\n",
       "      <th>0</th>\n",
       "      <td>22</td>\n",
       "      <td>98</td>\n",
       "      <td>06/01/12</td>\n",
       "      <td>False</td>\n",
       "    </tr>\n",
       "    <tr>\n",
       "      <th>1</th>\n",
       "      <td>12</td>\n",
       "      <td>52</td>\n",
       "      <td>23/07/10</td>\n",
       "      <td>False</td>\n",
       "    </tr>\n",
       "    <tr>\n",
       "      <th>2</th>\n",
       "      <td>1</td>\n",
       "      <td>54</td>\n",
       "      <td>18/05/12</td>\n",
       "      <td>False</td>\n",
       "    </tr>\n",
       "    <tr>\n",
       "      <th>3</th>\n",
       "      <td>29</td>\n",
       "      <td>33</td>\n",
       "      <td>04/05/12</td>\n",
       "      <td>False</td>\n",
       "    </tr>\n",
       "    <tr>\n",
       "      <th>4</th>\n",
       "      <td>13</td>\n",
       "      <td>33</td>\n",
       "      <td>11/05/12</td>\n",
       "      <td>False</td>\n",
       "    </tr>\n",
       "  </tbody>\n",
       "</table>\n",
       "</div>"
      ],
      "text/plain": [
       "   Category  sub category      Date  IsHoliday\n",
       "0        22            98  06/01/12      False\n",
       "1        12            52  23/07/10      False\n",
       "2         1            54  18/05/12      False\n",
       "3        29            33  04/05/12      False\n",
       "4        13            33  11/05/12      False"
      ]
     },
     "execution_count": 45,
     "metadata": {},
     "output_type": "execute_result"
    }
   ],
   "source": [
    "test_df.head()"
   ]
  },
  {
   "cell_type": "code",
   "execution_count": 46,
   "metadata": {},
   "outputs": [
    {
     "data": {
      "text/html": [
       "<div>\n",
       "<style>\n",
       "    .dataframe thead tr:only-child th {\n",
       "        text-align: right;\n",
       "    }\n",
       "\n",
       "    .dataframe thead th {\n",
       "        text-align: left;\n",
       "    }\n",
       "\n",
       "    .dataframe tbody tr th {\n",
       "        vertical-align: top;\n",
       "    }\n",
       "</style>\n",
       "<table border=\"1\" class=\"dataframe\">\n",
       "  <thead>\n",
       "    <tr style=\"text-align: right;\">\n",
       "      <th></th>\n",
       "      <th>Category</th>\n",
       "      <th>sub category</th>\n",
       "      <th>Date</th>\n",
       "      <th>GMV</th>\n",
       "      <th>IsHoliday</th>\n",
       "    </tr>\n",
       "  </thead>\n",
       "  <tbody>\n",
       "    <tr>\n",
       "      <th>831</th>\n",
       "      <td>1</td>\n",
       "      <td>1</td>\n",
       "      <td>05/02/10</td>\n",
       "      <td>24924.50</td>\n",
       "      <td>False</td>\n",
       "    </tr>\n",
       "    <tr>\n",
       "      <th>2174</th>\n",
       "      <td>1</td>\n",
       "      <td>1</td>\n",
       "      <td>12/02/10</td>\n",
       "      <td>46039.49</td>\n",
       "      <td>True</td>\n",
       "    </tr>\n",
       "    <tr>\n",
       "      <th>5138</th>\n",
       "      <td>1</td>\n",
       "      <td>1</td>\n",
       "      <td>19/02/10</td>\n",
       "      <td>41595.55</td>\n",
       "      <td>False</td>\n",
       "    </tr>\n",
       "    <tr>\n",
       "      <th>7239</th>\n",
       "      <td>1</td>\n",
       "      <td>1</td>\n",
       "      <td>26/02/10</td>\n",
       "      <td>19403.54</td>\n",
       "      <td>False</td>\n",
       "    </tr>\n",
       "    <tr>\n",
       "      <th>8716</th>\n",
       "      <td>1</td>\n",
       "      <td>1</td>\n",
       "      <td>05/03/10</td>\n",
       "      <td>21827.90</td>\n",
       "      <td>False</td>\n",
       "    </tr>\n",
       "  </tbody>\n",
       "</table>\n",
       "</div>"
      ],
      "text/plain": [
       "      Category  sub category      Date       GMV  IsHoliday\n",
       "831          1             1  05/02/10  24924.50      False\n",
       "2174         1             1  12/02/10  46039.49       True\n",
       "5138         1             1  19/02/10  41595.55      False\n",
       "7239         1             1  26/02/10  19403.54      False\n",
       "8716         1             1  05/03/10  21827.90      False"
      ]
     },
     "execution_count": 46,
     "metadata": {},
     "output_type": "execute_result"
    }
   ],
   "source": [
    "train_df.head()"
   ]
  },
  {
   "cell_type": "code",
   "execution_count": 48,
   "metadata": {
    "collapsed": true
   },
   "outputs": [],
   "source": [
    "#for the prediction process train and test dataset both should go under same transformations so I will first perform \n",
    "#the feature engineering in the train which will be done similarly is test dataset as well"
   ]
  },
  {
   "cell_type": "code",
   "execution_count": 54,
   "metadata": {},
   "outputs": [],
   "source": [
    "#Combining datasets train with category features and test with category features as well"
   ]
  },
  {
   "cell_type": "code",
   "execution_count": 119,
   "metadata": {},
   "outputs": [],
   "source": [
    "#included IsHoliday in join just to not have two IsHoliday variable\n",
    "train_combined  = pd.merge(train_df,category_features,on=['Category','Date','IsHoliday'])"
   ]
  },
  {
   "cell_type": "code",
   "execution_count": 120,
   "metadata": {
    "collapsed": true
   },
   "outputs": [],
   "source": [
    "#similarly do transformation of test data set\n",
    "test_combined = pd.merge(test_df,category_features,on =['Category','Date','IsHoliday'])"
   ]
  },
  {
   "cell_type": "code",
   "execution_count": 121,
   "metadata": {
    "scrolled": true
   },
   "outputs": [
    {
     "data": {
      "text/html": [
       "<div>\n",
       "<style>\n",
       "    .dataframe thead tr:only-child th {\n",
       "        text-align: right;\n",
       "    }\n",
       "\n",
       "    .dataframe thead th {\n",
       "        text-align: left;\n",
       "    }\n",
       "\n",
       "    .dataframe tbody tr th {\n",
       "        vertical-align: top;\n",
       "    }\n",
       "</style>\n",
       "<table border=\"1\" class=\"dataframe\">\n",
       "  <thead>\n",
       "    <tr style=\"text-align: right;\">\n",
       "      <th></th>\n",
       "      <th>Category</th>\n",
       "      <th>sub category</th>\n",
       "      <th>Date</th>\n",
       "      <th>GMV</th>\n",
       "      <th>IsHoliday</th>\n",
       "      <th>category type</th>\n",
       "      <th>No. of products</th>\n",
       "      <th>delivery charge</th>\n",
       "      <th>Promtion1</th>\n",
       "      <th>Promtion2</th>\n",
       "      <th>Promtion3</th>\n",
       "      <th>Ad spend</th>\n",
       "      <th>App time</th>\n",
       "    </tr>\n",
       "  </thead>\n",
       "  <tbody>\n",
       "    <tr>\n",
       "      <th>0</th>\n",
       "      <td>1</td>\n",
       "      <td>1</td>\n",
       "      <td>05/02/10</td>\n",
       "      <td>24924.50</td>\n",
       "      <td>False</td>\n",
       "      <td>A</td>\n",
       "      <td>151</td>\n",
       "      <td>2.572</td>\n",
       "      <td>0.0</td>\n",
       "      <td>0.0</td>\n",
       "      <td>0.0</td>\n",
       "      <td>211.096358</td>\n",
       "      <td>0.123365</td>\n",
       "    </tr>\n",
       "    <tr>\n",
       "      <th>1</th>\n",
       "      <td>1</td>\n",
       "      <td>2</td>\n",
       "      <td>05/02/10</td>\n",
       "      <td>50605.27</td>\n",
       "      <td>False</td>\n",
       "      <td>A</td>\n",
       "      <td>151</td>\n",
       "      <td>2.572</td>\n",
       "      <td>0.0</td>\n",
       "      <td>0.0</td>\n",
       "      <td>0.0</td>\n",
       "      <td>211.096358</td>\n",
       "      <td>0.123365</td>\n",
       "    </tr>\n",
       "    <tr>\n",
       "      <th>2</th>\n",
       "      <td>1</td>\n",
       "      <td>3</td>\n",
       "      <td>05/02/10</td>\n",
       "      <td>13740.12</td>\n",
       "      <td>False</td>\n",
       "      <td>A</td>\n",
       "      <td>151</td>\n",
       "      <td>2.572</td>\n",
       "      <td>0.0</td>\n",
       "      <td>0.0</td>\n",
       "      <td>0.0</td>\n",
       "      <td>211.096358</td>\n",
       "      <td>0.123365</td>\n",
       "    </tr>\n",
       "    <tr>\n",
       "      <th>3</th>\n",
       "      <td>1</td>\n",
       "      <td>4</td>\n",
       "      <td>05/02/10</td>\n",
       "      <td>39954.04</td>\n",
       "      <td>False</td>\n",
       "      <td>A</td>\n",
       "      <td>151</td>\n",
       "      <td>2.572</td>\n",
       "      <td>0.0</td>\n",
       "      <td>0.0</td>\n",
       "      <td>0.0</td>\n",
       "      <td>211.096358</td>\n",
       "      <td>0.123365</td>\n",
       "    </tr>\n",
       "    <tr>\n",
       "      <th>4</th>\n",
       "      <td>1</td>\n",
       "      <td>5</td>\n",
       "      <td>05/02/10</td>\n",
       "      <td>32229.38</td>\n",
       "      <td>False</td>\n",
       "      <td>A</td>\n",
       "      <td>151</td>\n",
       "      <td>2.572</td>\n",
       "      <td>0.0</td>\n",
       "      <td>0.0</td>\n",
       "      <td>0.0</td>\n",
       "      <td>211.096358</td>\n",
       "      <td>0.123365</td>\n",
       "    </tr>\n",
       "  </tbody>\n",
       "</table>\n",
       "</div>"
      ],
      "text/plain": [
       "   Category  sub category      Date       GMV  IsHoliday category type  \\\n",
       "0         1             1  05/02/10  24924.50      False             A   \n",
       "1         1             2  05/02/10  50605.27      False             A   \n",
       "2         1             3  05/02/10  13740.12      False             A   \n",
       "3         1             4  05/02/10  39954.04      False             A   \n",
       "4         1             5  05/02/10  32229.38      False             A   \n",
       "\n",
       "   No. of products  delivery charge  Promtion1  Promtion2  Promtion3  \\\n",
       "0              151            2.572        0.0        0.0        0.0   \n",
       "1              151            2.572        0.0        0.0        0.0   \n",
       "2              151            2.572        0.0        0.0        0.0   \n",
       "3              151            2.572        0.0        0.0        0.0   \n",
       "4              151            2.572        0.0        0.0        0.0   \n",
       "\n",
       "     Ad spend  App time  \n",
       "0  211.096358  0.123365  \n",
       "1  211.096358  0.123365  \n",
       "2  211.096358  0.123365  \n",
       "3  211.096358  0.123365  \n",
       "4  211.096358  0.123365  "
      ]
     },
     "execution_count": 121,
     "metadata": {},
     "output_type": "execute_result"
    }
   ],
   "source": [
    "train_combined.head()"
   ]
  },
  {
   "cell_type": "code",
   "execution_count": 122,
   "metadata": {
    "collapsed": true
   },
   "outputs": [],
   "source": [
    "#Date can be split into Month of the year and year so that we can analyse any \n",
    "#seasonality present in the dataset for GMV\n",
    "def return_month(df):\n",
    "    day,month,year = df['Date'].split('/')\n",
    "    return month\n",
    "def return_year(df):\n",
    "    day,month,year = df['Date'].split('/')\n",
    "    return year"
   ]
  },
  {
   "cell_type": "code",
   "execution_count": 123,
   "metadata": {
    "collapsed": true
   },
   "outputs": [],
   "source": [
    "train_combined['Month'] = train_combined.apply(return_month,axis=1)\n",
    "train_combined['Year'] = train_combined.apply(return_year,axis=1)"
   ]
  },
  {
   "cell_type": "code",
   "execution_count": 124,
   "metadata": {
    "collapsed": true
   },
   "outputs": [],
   "source": [
    "test_combined['Month'] = test_combined.apply(return_month,axis=1)\n",
    "test_combined['Year'] = test_combined.apply(return_year,axis=1)"
   ]
  },
  {
   "cell_type": "markdown",
   "metadata": {},
   "source": [
    "# relations between dependent and independent variables for inference and feature selection"
   ]
  },
  {
   "cell_type": "code",
   "execution_count": 125,
   "metadata": {
    "collapsed": true
   },
   "outputs": [],
   "source": [
    "#library for plotting\n",
    "import matplotlib.pyplot as plt\n",
    "%matplotlib inline"
   ]
  },
  {
   "cell_type": "code",
   "execution_count": 126,
   "metadata": {
    "scrolled": true
   },
   "outputs": [
    {
     "data": {
      "text/html": [
       "<div>\n",
       "<style>\n",
       "    .dataframe thead tr:only-child th {\n",
       "        text-align: right;\n",
       "    }\n",
       "\n",
       "    .dataframe thead th {\n",
       "        text-align: left;\n",
       "    }\n",
       "\n",
       "    .dataframe tbody tr th {\n",
       "        vertical-align: top;\n",
       "    }\n",
       "</style>\n",
       "<table border=\"1\" class=\"dataframe\">\n",
       "  <thead>\n",
       "    <tr style=\"text-align: right;\">\n",
       "      <th></th>\n",
       "      <th>count</th>\n",
       "      <th>mean</th>\n",
       "      <th>std</th>\n",
       "      <th>min</th>\n",
       "      <th>25%</th>\n",
       "      <th>50%</th>\n",
       "      <th>75%</th>\n",
       "      <th>max</th>\n",
       "    </tr>\n",
       "    <tr>\n",
       "      <th>IsHoliday</th>\n",
       "      <th></th>\n",
       "      <th></th>\n",
       "      <th></th>\n",
       "      <th></th>\n",
       "      <th></th>\n",
       "      <th></th>\n",
       "      <th></th>\n",
       "      <th></th>\n",
       "    </tr>\n",
       "  </thead>\n",
       "  <tbody>\n",
       "    <tr>\n",
       "      <th>False</th>\n",
       "      <td>245157.0</td>\n",
       "      <td>17050.360427</td>\n",
       "      <td>23624.170695</td>\n",
       "      <td>-4988.94</td>\n",
       "      <td>2637.000</td>\n",
       "      <td>8338.050</td>\n",
       "      <td>21528.700</td>\n",
       "      <td>406988.63</td>\n",
       "    </tr>\n",
       "    <tr>\n",
       "      <th>True</th>\n",
       "      <td>18548.0</td>\n",
       "      <td>18447.850171</td>\n",
       "      <td>28787.334190</td>\n",
       "      <td>-798.00</td>\n",
       "      <td>2659.925</td>\n",
       "      <td>8802.805</td>\n",
       "      <td>23026.615</td>\n",
       "      <td>693099.36</td>\n",
       "    </tr>\n",
       "  </tbody>\n",
       "</table>\n",
       "</div>"
      ],
      "text/plain": [
       "              count          mean           std      min       25%       50%  \\\n",
       "IsHoliday                                                                      \n",
       "False      245157.0  17050.360427  23624.170695 -4988.94  2637.000  8338.050   \n",
       "True        18548.0  18447.850171  28787.334190  -798.00  2659.925  8802.805   \n",
       "\n",
       "                 75%        max  \n",
       "IsHoliday                        \n",
       "False      21528.700  406988.63  \n",
       "True       23026.615  693099.36  "
      ]
     },
     "execution_count": 126,
     "metadata": {},
     "output_type": "execute_result"
    }
   ],
   "source": [
    "train_combined.groupby('IsHoliday')['GMV'].describe()\n",
    "# GMV is higher whereever there is Holiday weak\n",
    "# There are some negative GMV values which has to investigated as well"
   ]
  },
  {
   "cell_type": "code",
   "execution_count": 127,
   "metadata": {
    "scrolled": true
   },
   "outputs": [
    {
     "data": {
      "text/plain": [
       "0.0027644527028308145"
      ]
     },
     "execution_count": 127,
     "metadata": {},
     "output_type": "execute_result"
    }
   ],
   "source": [
    "len(train_combined[train_combined.GMV < 0])*1.0/len(train_combined)\n",
    "#.2% of the value have negative gmv"
   ]
  },
  {
   "cell_type": "code",
   "execution_count": 128,
   "metadata": {
    "scrolled": true
   },
   "outputs": [],
   "source": [
    "#Removing these values from training set\n",
    "train_combined = train_combined[train_combined.GMV>=0]"
   ]
  },
  {
   "cell_type": "code",
   "execution_count": 129,
   "metadata": {
    "scrolled": true
   },
   "outputs": [
    {
     "data": {
      "text/html": [
       "<div>\n",
       "<style>\n",
       "    .dataframe thead tr:only-child th {\n",
       "        text-align: right;\n",
       "    }\n",
       "\n",
       "    .dataframe thead th {\n",
       "        text-align: left;\n",
       "    }\n",
       "\n",
       "    .dataframe tbody tr th {\n",
       "        vertical-align: top;\n",
       "    }\n",
       "</style>\n",
       "<table border=\"1\" class=\"dataframe\">\n",
       "  <thead>\n",
       "    <tr style=\"text-align: right;\">\n",
       "      <th></th>\n",
       "      <th>count</th>\n",
       "      <th>mean</th>\n",
       "      <th>std</th>\n",
       "      <th>min</th>\n",
       "      <th>25%</th>\n",
       "      <th>50%</th>\n",
       "      <th>75%</th>\n",
       "      <th>max</th>\n",
       "    </tr>\n",
       "    <tr>\n",
       "      <th>IsHoliday</th>\n",
       "      <th></th>\n",
       "      <th></th>\n",
       "      <th></th>\n",
       "      <th></th>\n",
       "      <th></th>\n",
       "      <th></th>\n",
       "      <th></th>\n",
       "      <th></th>\n",
       "    </tr>\n",
       "  </thead>\n",
       "  <tbody>\n",
       "    <tr>\n",
       "      <th>False</th>\n",
       "      <td>244488.0</td>\n",
       "      <td>17097.230735</td>\n",
       "      <td>23639.445406</td>\n",
       "      <td>0.0</td>\n",
       "      <td>2670.7050</td>\n",
       "      <td>8380.29</td>\n",
       "      <td>21581.9625</td>\n",
       "      <td>406988.63</td>\n",
       "    </tr>\n",
       "    <tr>\n",
       "      <th>True</th>\n",
       "      <td>18488.0</td>\n",
       "      <td>18507.999898</td>\n",
       "      <td>28814.607589</td>\n",
       "      <td>0.0</td>\n",
       "      <td>2693.9225</td>\n",
       "      <td>8869.05</td>\n",
       "      <td>23092.1850</td>\n",
       "      <td>693099.36</td>\n",
       "    </tr>\n",
       "  </tbody>\n",
       "</table>\n",
       "</div>"
      ],
      "text/plain": [
       "              count          mean           std  min        25%      50%  \\\n",
       "IsHoliday                                                                  \n",
       "False      244488.0  17097.230735  23639.445406  0.0  2670.7050  8380.29   \n",
       "True        18488.0  18507.999898  28814.607589  0.0  2693.9225  8869.05   \n",
       "\n",
       "                  75%        max  \n",
       "IsHoliday                         \n",
       "False      21581.9625  406988.63  \n",
       "True       23092.1850  693099.36  "
      ]
     },
     "execution_count": 129,
     "metadata": {},
     "output_type": "execute_result"
    }
   ],
   "source": [
    "train_combined.groupby('IsHoliday')['GMV'].describe()"
   ]
  },
  {
   "cell_type": "code",
   "execution_count": 112,
   "metadata": {
    "scrolled": true
   },
   "outputs": [],
   "source": [
    "#Converting categorical variables into Labels as otherwise these can be considered as continous variables////\n"
   ]
  },
  {
   "cell_type": "code",
   "execution_count": 130,
   "metadata": {
    "collapsed": true
   },
   "outputs": [],
   "source": [
    "from sklearn.preprocessing import LabelEncoder"
   ]
  },
  {
   "cell_type": "code",
   "execution_count": 131,
   "metadata": {},
   "outputs": [
    {
     "data": {
      "text/plain": [
       "Index([u'Category', u'sub category', u'Date', u'GMV', u'IsHoliday',\n",
       "       u'category type', u'No. of products', u'delivery charge', u'Promtion1',\n",
       "       u'Promtion2', u'Promtion3', u'Ad spend', u'App time', u'Month',\n",
       "       u'Year'],\n",
       "      dtype='object')"
      ]
     },
     "execution_count": 131,
     "metadata": {},
     "output_type": "execute_result"
    }
   ],
   "source": [
    "train_combined.columns"
   ]
  },
  {
   "cell_type": "code",
   "execution_count": 132,
   "metadata": {
    "collapsed": true
   },
   "outputs": [],
   "source": [
    "#initialising LabelEncoder for various variables\n",
    "lb_category = LabelEncoder()\n",
    "lb_subcategory = LabelEncoder()\n",
    "lb_IsHoliday = LabelEncoder()\n",
    "lb_categorytype = LabelEncoder()\n",
    "lb_Month = LabelEncoder()\n",
    "lb_Year = LabelEncoder()"
   ]
  },
  {
   "cell_type": "code",
   "execution_count": 133,
   "metadata": {
    "scrolled": true
   },
   "outputs": [],
   "source": [
    "train_combined['Category'] = lb_category.fit_transform(train_combined['Category'])\n",
    "train_combined['sub category'] = lb_subcategory.fit_transform(train_combined['sub category'])\n",
    "train_combined['IsHoliday'] = lb_IsHoliday.fit_transform(train_combined['IsHoliday'])\n",
    "train_combined['category type'] = lb_categorytype.fit_transform(train_combined['category type'])\n",
    "train_combined['Month'] = lb_Month.fit_transform(train_combined['Month'])\n",
    "train_combined['Year'] = lb_Year.fit_transform(train_combined['Year'])"
   ]
  },
  {
   "cell_type": "code",
   "execution_count": 134,
   "metadata": {
    "collapsed": true
   },
   "outputs": [],
   "source": [
    "test_combined['Category'] = lb_category.fit_transform(test_combined['Category'])\n",
    "test_combined['sub category'] = lb_subcategory.fit_transform(test_combined['sub category'])\n",
    "test_combined['IsHoliday'] = lb_IsHoliday.fit_transform(test_combined['IsHoliday'])\n",
    "test_combined['category type'] = lb_categorytype.fit_transform(test_combined['category type'])\n",
    "test_combined['Month'] = lb_Month.fit_transform(test_combined['Month'])\n",
    "test_combined['Year'] = lb_Year.fit_transform(test_combined['Year'])"
   ]
  },
  {
   "cell_type": "code",
   "execution_count": 158,
   "metadata": {},
   "outputs": [
    {
     "data": {
      "text/html": [
       "<div>\n",
       "<style>\n",
       "    .dataframe thead tr:only-child th {\n",
       "        text-align: right;\n",
       "    }\n",
       "\n",
       "    .dataframe thead th {\n",
       "        text-align: left;\n",
       "    }\n",
       "\n",
       "    .dataframe tbody tr th {\n",
       "        vertical-align: top;\n",
       "    }\n",
       "</style>\n",
       "<table border=\"1\" class=\"dataframe\">\n",
       "  <thead>\n",
       "    <tr style=\"text-align: right;\">\n",
       "      <th></th>\n",
       "      <th>GMV</th>\n",
       "      <th>Promtion1</th>\n",
       "      <th>Promtion2</th>\n",
       "      <th>Promtion3</th>\n",
       "      <th>Ad spend</th>\n",
       "      <th>App time</th>\n",
       "      <th>delivery charge</th>\n",
       "      <th>No. of products</th>\n",
       "    </tr>\n",
       "  </thead>\n",
       "  <tbody>\n",
       "    <tr>\n",
       "      <th>GMV</th>\n",
       "      <td>1.000000</td>\n",
       "      <td>0.037024</td>\n",
       "      <td>0.017484</td>\n",
       "      <td>0.037031</td>\n",
       "      <td>-0.070007</td>\n",
       "      <td>0.009308</td>\n",
       "      <td>0.009958</td>\n",
       "      <td>0.253691</td>\n",
       "    </tr>\n",
       "    <tr>\n",
       "      <th>Promtion1</th>\n",
       "      <td>0.037024</td>\n",
       "      <td>1.000000</td>\n",
       "      <td>0.168962</td>\n",
       "      <td>-0.017529</td>\n",
       "      <td>-0.020589</td>\n",
       "      <td>0.100483</td>\n",
       "      <td>0.322339</td>\n",
       "      <td>0.128518</td>\n",
       "    </tr>\n",
       "    <tr>\n",
       "      <th>Promtion2</th>\n",
       "      <td>0.017484</td>\n",
       "      <td>0.168962</td>\n",
       "      <td>1.000000</td>\n",
       "      <td>-0.008473</td>\n",
       "      <td>-0.017248</td>\n",
       "      <td>0.038699</td>\n",
       "      <td>0.036006</td>\n",
       "      <td>0.062998</td>\n",
       "    </tr>\n",
       "    <tr>\n",
       "      <th>Promtion3</th>\n",
       "      <td>0.037031</td>\n",
       "      <td>-0.017529</td>\n",
       "      <td>-0.008473</td>\n",
       "      <td>1.000000</td>\n",
       "      <td>-0.012526</td>\n",
       "      <td>0.016566</td>\n",
       "      <td>0.021363</td>\n",
       "      <td>0.023200</td>\n",
       "    </tr>\n",
       "    <tr>\n",
       "      <th>Ad spend</th>\n",
       "      <td>-0.070007</td>\n",
       "      <td>-0.020589</td>\n",
       "      <td>-0.017248</td>\n",
       "      <td>-0.012526</td>\n",
       "      <td>1.000000</td>\n",
       "      <td>0.256238</td>\n",
       "      <td>-0.170429</td>\n",
       "      <td>-0.168721</td>\n",
       "    </tr>\n",
       "    <tr>\n",
       "      <th>App time</th>\n",
       "      <td>0.009308</td>\n",
       "      <td>0.100483</td>\n",
       "      <td>0.038699</td>\n",
       "      <td>0.016566</td>\n",
       "      <td>0.256238</td>\n",
       "      <td>1.000000</td>\n",
       "      <td>0.038063</td>\n",
       "      <td>-0.083546</td>\n",
       "    </tr>\n",
       "    <tr>\n",
       "      <th>delivery charge</th>\n",
       "      <td>0.009958</td>\n",
       "      <td>0.322339</td>\n",
       "      <td>0.036006</td>\n",
       "      <td>0.021363</td>\n",
       "      <td>-0.170429</td>\n",
       "      <td>0.038063</td>\n",
       "      <td>1.000000</td>\n",
       "      <td>0.071446</td>\n",
       "    </tr>\n",
       "    <tr>\n",
       "      <th>No. of products</th>\n",
       "      <td>0.253691</td>\n",
       "      <td>0.128518</td>\n",
       "      <td>0.062998</td>\n",
       "      <td>0.023200</td>\n",
       "      <td>-0.168721</td>\n",
       "      <td>-0.083546</td>\n",
       "      <td>0.071446</td>\n",
       "      <td>1.000000</td>\n",
       "    </tr>\n",
       "  </tbody>\n",
       "</table>\n",
       "</div>"
      ],
      "text/plain": [
       "                      GMV  Promtion1  Promtion2  Promtion3  Ad spend  \\\n",
       "GMV              1.000000   0.037024   0.017484   0.037031 -0.070007   \n",
       "Promtion1        0.037024   1.000000   0.168962  -0.017529 -0.020589   \n",
       "Promtion2        0.017484   0.168962   1.000000  -0.008473 -0.017248   \n",
       "Promtion3        0.037031  -0.017529  -0.008473   1.000000 -0.012526   \n",
       "Ad spend        -0.070007  -0.020589  -0.017248  -0.012526  1.000000   \n",
       "App time         0.009308   0.100483   0.038699   0.016566  0.256238   \n",
       "delivery charge  0.009958   0.322339   0.036006   0.021363 -0.170429   \n",
       "No. of products  0.253691   0.128518   0.062998   0.023200 -0.168721   \n",
       "\n",
       "                 App time  delivery charge  No. of products  \n",
       "GMV              0.009308         0.009958         0.253691  \n",
       "Promtion1        0.100483         0.322339         0.128518  \n",
       "Promtion2        0.038699         0.036006         0.062998  \n",
       "Promtion3        0.016566         0.021363         0.023200  \n",
       "Ad spend         0.256238        -0.170429        -0.168721  \n",
       "App time         1.000000         0.038063        -0.083546  \n",
       "delivery charge  0.038063         1.000000         0.071446  \n",
       "No. of products -0.083546         0.071446         1.000000  "
      ]
     },
     "execution_count": 158,
     "metadata": {},
     "output_type": "execute_result"
    }
   ],
   "source": [
    "#Correlation table between continous values\n",
    "#this suggests that even if there is some relation it will be specific to Product Category and Sub Category\n",
    "train_combined[['GMV','Promtion1','Promtion2','Promtion3','Ad spend','App time','delivery charge','No. of products']].corr()"
   ]
  },
  {
   "cell_type": "code",
   "execution_count": 324,
   "metadata": {
    "scrolled": true
   },
   "outputs": [
    {
     "data": {
      "text/html": [
       "<div>\n",
       "<style>\n",
       "    .dataframe thead tr:only-child th {\n",
       "        text-align: right;\n",
       "    }\n",
       "\n",
       "    .dataframe thead th {\n",
       "        text-align: left;\n",
       "    }\n",
       "\n",
       "    .dataframe tbody tr th {\n",
       "        vertical-align: top;\n",
       "    }\n",
       "</style>\n",
       "<table border=\"1\" class=\"dataframe\">\n",
       "  <thead>\n",
       "    <tr style=\"text-align: right;\">\n",
       "      <th></th>\n",
       "      <th>Category</th>\n",
       "      <th>sub category</th>\n",
       "      <th>Date</th>\n",
       "      <th>GMV</th>\n",
       "      <th>IsHoliday</th>\n",
       "      <th>category type</th>\n",
       "      <th>No. of products</th>\n",
       "      <th>delivery charge</th>\n",
       "      <th>Promtion1</th>\n",
       "      <th>Promtion2</th>\n",
       "      <th>Promtion3</th>\n",
       "      <th>Ad spend</th>\n",
       "      <th>App time</th>\n",
       "      <th>Month</th>\n",
       "      <th>Year</th>\n",
       "    </tr>\n",
       "  </thead>\n",
       "  <tbody>\n",
       "    <tr>\n",
       "      <th>0</th>\n",
       "      <td>0</td>\n",
       "      <td>0</td>\n",
       "      <td>05/02/10</td>\n",
       "      <td>24924.50</td>\n",
       "      <td>0</td>\n",
       "      <td>0</td>\n",
       "      <td>151</td>\n",
       "      <td>2.572</td>\n",
       "      <td>0.0</td>\n",
       "      <td>0.0</td>\n",
       "      <td>0.0</td>\n",
       "      <td>211.096358</td>\n",
       "      <td>0.123365</td>\n",
       "      <td>1</td>\n",
       "      <td>0</td>\n",
       "    </tr>\n",
       "    <tr>\n",
       "      <th>1</th>\n",
       "      <td>0</td>\n",
       "      <td>1</td>\n",
       "      <td>05/02/10</td>\n",
       "      <td>50605.27</td>\n",
       "      <td>0</td>\n",
       "      <td>0</td>\n",
       "      <td>151</td>\n",
       "      <td>2.572</td>\n",
       "      <td>0.0</td>\n",
       "      <td>0.0</td>\n",
       "      <td>0.0</td>\n",
       "      <td>211.096358</td>\n",
       "      <td>0.123365</td>\n",
       "      <td>1</td>\n",
       "      <td>0</td>\n",
       "    </tr>\n",
       "    <tr>\n",
       "      <th>2</th>\n",
       "      <td>0</td>\n",
       "      <td>2</td>\n",
       "      <td>05/02/10</td>\n",
       "      <td>13740.12</td>\n",
       "      <td>0</td>\n",
       "      <td>0</td>\n",
       "      <td>151</td>\n",
       "      <td>2.572</td>\n",
       "      <td>0.0</td>\n",
       "      <td>0.0</td>\n",
       "      <td>0.0</td>\n",
       "      <td>211.096358</td>\n",
       "      <td>0.123365</td>\n",
       "      <td>1</td>\n",
       "      <td>0</td>\n",
       "    </tr>\n",
       "    <tr>\n",
       "      <th>3</th>\n",
       "      <td>0</td>\n",
       "      <td>3</td>\n",
       "      <td>05/02/10</td>\n",
       "      <td>39954.04</td>\n",
       "      <td>0</td>\n",
       "      <td>0</td>\n",
       "      <td>151</td>\n",
       "      <td>2.572</td>\n",
       "      <td>0.0</td>\n",
       "      <td>0.0</td>\n",
       "      <td>0.0</td>\n",
       "      <td>211.096358</td>\n",
       "      <td>0.123365</td>\n",
       "      <td>1</td>\n",
       "      <td>0</td>\n",
       "    </tr>\n",
       "    <tr>\n",
       "      <th>4</th>\n",
       "      <td>0</td>\n",
       "      <td>4</td>\n",
       "      <td>05/02/10</td>\n",
       "      <td>32229.38</td>\n",
       "      <td>0</td>\n",
       "      <td>0</td>\n",
       "      <td>151</td>\n",
       "      <td>2.572</td>\n",
       "      <td>0.0</td>\n",
       "      <td>0.0</td>\n",
       "      <td>0.0</td>\n",
       "      <td>211.096358</td>\n",
       "      <td>0.123365</td>\n",
       "      <td>1</td>\n",
       "      <td>0</td>\n",
       "    </tr>\n",
       "  </tbody>\n",
       "</table>\n",
       "</div>"
      ],
      "text/plain": [
       "   Category  sub category      Date       GMV  IsHoliday  category type  \\\n",
       "0         0             0  05/02/10  24924.50          0              0   \n",
       "1         0             1  05/02/10  50605.27          0              0   \n",
       "2         0             2  05/02/10  13740.12          0              0   \n",
       "3         0             3  05/02/10  39954.04          0              0   \n",
       "4         0             4  05/02/10  32229.38          0              0   \n",
       "\n",
       "   No. of products  delivery charge  Promtion1  Promtion2  Promtion3  \\\n",
       "0              151            2.572        0.0        0.0        0.0   \n",
       "1              151            2.572        0.0        0.0        0.0   \n",
       "2              151            2.572        0.0        0.0        0.0   \n",
       "3              151            2.572        0.0        0.0        0.0   \n",
       "4              151            2.572        0.0        0.0        0.0   \n",
       "\n",
       "     Ad spend  App time  Month  Year  \n",
       "0  211.096358  0.123365      1     0  \n",
       "1  211.096358  0.123365      1     0  \n",
       "2  211.096358  0.123365      1     0  \n",
       "3  211.096358  0.123365      1     0  \n",
       "4  211.096358  0.123365      1     0  "
      ]
     },
     "execution_count": 324,
     "metadata": {},
     "output_type": "execute_result"
    }
   ],
   "source": [
    "train_combined.head()"
   ]
  },
  {
   "cell_type": "code",
   "execution_count": 161,
   "metadata": {
    "scrolled": true
   },
   "outputs": [],
   "source": [
    "#seperating dev set for calculating accuracy after training\n",
    "from sklearn.model_selection import train_test_split"
   ]
  },
  {
   "cell_type": "code",
   "execution_count": 298,
   "metadata": {
    "collapsed": true
   },
   "outputs": [],
   "source": [
    "#X is subset of train_combined used in modelling the GMV different columns are removed or added based \n",
    "#on the R2 on dev set.\n",
    "X = train_combined[[u'Category', u'sub category', u'IsHoliday',\n",
    "       u'category type', u'No. of products', u'delivery charge', u'Ad spend', u'App time', u'Month',\n",
    "       u'Year']]\n",
    "Y = train_combined[['GMV']]"
   ]
  },
  {
   "cell_type": "code",
   "execution_count": 299,
   "metadata": {
    "collapsed": true
   },
   "outputs": [],
   "source": [
    "X_train,X_dev,Y_train,Y_dev = train_test_split(X,Y,test_size= .30,random_state = 975)"
   ]
  },
  {
   "cell_type": "code",
   "execution_count": 169,
   "metadata": {
    "collapsed": true
   },
   "outputs": [],
   "source": [
    "#Since we have number categorical variables I am picking tree based regressors / RandomForestRegressor is one of them"
   ]
  },
  {
   "cell_type": "code",
   "execution_count": 300,
   "metadata": {
    "collapsed": true
   },
   "outputs": [],
   "source": [
    "from sklearn.ensemble import RandomForestRegressor"
   ]
  },
  {
   "cell_type": "code",
   "execution_count": 301,
   "metadata": {
    "collapsed": true
   },
   "outputs": [],
   "source": [
    "model = RandomForestRegressor(n_estimators=100)"
   ]
  },
  {
   "cell_type": "code",
   "execution_count": 302,
   "metadata": {},
   "outputs": [
    {
     "name": "stderr",
     "output_type": "stream",
     "text": [
      "/anaconda2/lib/python2.7/site-packages/ipykernel_launcher.py:1: DataConversionWarning: A column-vector y was passed when a 1d array was expected. Please change the shape of y to (n_samples,), for example using ravel().\n",
      "  \"\"\"Entry point for launching an IPython kernel.\n"
     ]
    },
    {
     "data": {
      "text/plain": [
       "RandomForestRegressor(bootstrap=True, criterion='mse', max_depth=None,\n",
       "           max_features='auto', max_leaf_nodes=None,\n",
       "           min_impurity_decrease=0.0, min_impurity_split=None,\n",
       "           min_samples_leaf=1, min_samples_split=2,\n",
       "           min_weight_fraction_leaf=0.0, n_estimators=100, n_jobs=1,\n",
       "           oob_score=False, random_state=None, verbose=0, warm_start=False)"
      ]
     },
     "execution_count": 302,
     "metadata": {},
     "output_type": "execute_result"
    }
   ],
   "source": [
    "model.fit(X_train,Y_train)\n",
    "#Fitting the model with base_estimator as decision tree "
   ]
  },
  {
   "cell_type": "code",
   "execution_count": 303,
   "metadata": {},
   "outputs": [
    {
     "data": {
      "text/plain": [
       "0.99444363956930848"
      ]
     },
     "execution_count": 303,
     "metadata": {},
     "output_type": "execute_result"
    }
   ],
   "source": [
    "model.score(X_train,Y_train)#training score"
   ]
  },
  {
   "cell_type": "code",
   "execution_count": 304,
   "metadata": {},
   "outputs": [
    {
     "data": {
      "text/plain": [
       "0.96401007939151129"
      ]
     },
     "execution_count": 304,
     "metadata": {},
     "output_type": "execute_result"
    }
   ],
   "source": [
    "model.score(X_dev,Y_dev)#dev set score"
   ]
  },
  {
   "cell_type": "code",
   "execution_count": 305,
   "metadata": {},
   "outputs": [
    {
     "name": "stderr",
     "output_type": "stream",
     "text": [
      "/anaconda2/lib/python2.7/site-packages/ipykernel_launcher.py:1: SettingWithCopyWarning: \n",
      "A value is trying to be set on a copy of a slice from a DataFrame.\n",
      "Try using .loc[row_indexer,col_indexer] = value instead\n",
      "\n",
      "See the caveats in the documentation: http://pandas.pydata.org/pandas-docs/stable/indexing.html#indexing-view-versus-copy\n",
      "  \"\"\"Entry point for launching an IPython kernel.\n",
      "/anaconda2/lib/python2.7/site-packages/ipykernel_launcher.py:2: SettingWithCopyWarning: \n",
      "A value is trying to be set on a copy of a slice from a DataFrame.\n",
      "Try using .loc[row_indexer,col_indexer] = value instead\n",
      "\n",
      "See the caveats in the documentation: http://pandas.pydata.org/pandas-docs/stable/indexing.html#indexing-view-versus-copy\n",
      "  \n"
     ]
    }
   ],
   "source": [
    "X_dev['Predicted_GMV'] = model.predict(X_dev)\n",
    "X_dev['Actual_GMV']=Y_dev"
   ]
  },
  {
   "cell_type": "code",
   "execution_count": 194,
   "metadata": {},
   "outputs": [],
   "source": [
    "#Profiling different scores by category and GMV"
   ]
  },
  {
   "cell_type": "code",
   "execution_count": 241,
   "metadata": {
    "collapsed": true
   },
   "outputs": [],
   "source": [
    "from sklearn.metrics import r2_score\n"
   ]
  },
  {
   "cell_type": "code",
   "execution_count": 306,
   "metadata": {
    "scrolled": true
   },
   "outputs": [
    {
     "name": "stdout",
     "output_type": "stream",
     "text": [
      "0 IsHoliday : 0.967342651495\n",
      "1 IsHoliday : 0.93339451214\n"
     ]
    }
   ],
   "source": [
    "#Dev set performance where IsHoliday is True\n",
    "for i in range(2):\n",
    "    Cat = X_dev[X_dev.IsHoliday==i]\n",
    "    print str(i)+ ' IsHoliday : ' + str(r2_score(Cat.Actual_GMV,Cat.Predicted_GMV))"
   ]
  },
  {
   "cell_type": "code",
   "execution_count": 307,
   "metadata": {
    "scrolled": true
   },
   "outputs": [
    {
     "name": "stdout",
     "output_type": "stream",
     "text": [
      "0 category_score : 0.974911347558\n",
      "1 category_score : 0.972302014587\n",
      "2 category_score : 0.97902725197\n",
      "3 category_score : 0.979225092881\n",
      "4 category_score : 0.959412586567\n",
      "5 category_score : 0.968613208807\n",
      "6 category_score : 0.953330429095\n",
      "7 category_score : 0.958011148046\n",
      "8 category_score : 0.952733124166\n",
      "9 category_score : 0.938750350867\n",
      "10 category_score : 0.960465916171\n",
      "11 category_score : 0.961625964412\n",
      "12 category_score : 0.960915148222\n",
      "13 category_score : 0.958623742735\n",
      "14 category_score : 0.940137592756\n",
      "15 category_score : 0.925302979847\n",
      "16 category_score : 0.926781646392\n",
      "17 category_score : 0.95062011041\n",
      "18 category_score : 0.964172475137\n",
      "19 category_score : 0.960761806934\n",
      "20 category_score : 0.926686901746\n",
      "21 category_score : 0.949405143486\n",
      "22 category_score : 0.924503071587\n",
      "23 category_score : 0.9722033775\n",
      "24 category_score : 0.949422338134\n",
      "25 category_score : 0.966719308478\n",
      "26 category_score : 0.972816100708\n",
      "27 category_score : 0.92820946764\n",
      "28 category_score : 0.907238788198\n",
      "29 category_score : 0.987572635486\n"
     ]
    }
   ],
   "source": [
    "#category wise performance\n",
    "for i in range(30):\n",
    "    Cat = X_dev[X_dev.Category==i]\n",
    "    print str(i)+ ' category_score : ' + str(r2_score(Cat.Actual_GMV,Cat.Predicted_GMV))"
   ]
  },
  {
   "cell_type": "code",
   "execution_count": 308,
   "metadata": {},
   "outputs": [
    {
     "name": "stdout",
     "output_type": "stream",
     "text": [
      "0 category_type_wise : 0.966735145774\n",
      "1 category_type_wise : 0.948196818041\n",
      "2 category_type_wise : 0.987572635486\n"
     ]
    }
   ],
   "source": [
    "#category type  wise performance\n",
    "for i in range(3):\n",
    "    Cat = X_dev[X_dev['category type']==i]\n",
    "    print str(i)+ ' category_type_wise : ' + str(r2_score(Cat.Actual_GMV,Cat.Predicted_GMV))"
   ]
  },
  {
   "cell_type": "code",
   "execution_count": 309,
   "metadata": {},
   "outputs": [
    {
     "name": "stdout",
     "output_type": "stream",
     "text": [
      "0 Month_wise : 0.983377544799\n",
      "1 Month_wise : 0.975023762657\n",
      "2 Month_wise : 0.980434820272\n",
      "3 Month_wise : 0.959288580422\n",
      "4 Month_wise : 0.980421099126\n",
      "5 Month_wise : 0.980817347175\n",
      "6 Month_wise : 0.979241606406\n",
      "7 Month_wise : 0.976765074309\n",
      "8 Month_wise : 0.977013771604\n",
      "9 Month_wise : 0.979878002031\n",
      "10 Month_wise : 0.939883690045\n",
      "11 Month_wise : 0.885698541193\n"
     ]
    }
   ],
   "source": [
    "#performance for every month\n",
    "for i in range(12):\n",
    "    Cat = X_dev[X_dev['Month']==i]\n",
    "    print str(i)+ ' Month_wise : ' + str(r2_score(Cat.Actual_GMV,Cat.Predicted_GMV))"
   ]
  },
  {
   "cell_type": "code",
   "execution_count": 310,
   "metadata": {
    "scrolled": true
   },
   "outputs": [
    {
     "data": {
      "text/plain": [
       "<matplotlib.collections.PathCollection at 0x11a2adfd0>"
      ]
     },
     "execution_count": 310,
     "metadata": {},
     "output_type": "execute_result"
    },
    {
     "data": {
      "image/png": "[encoded data removed]",
      "text/plain": [
       "<matplotlib.figure.Figure at 0x105879150>"
      ]
     },
     "metadata": {},
     "output_type": "display_data"
    }
   ],
   "source": [
    "#scatter plot on the whole dev set prediction seems to be linear in lower GMV area but higher in high GMV\n",
    "#so this model will be used in order to make prediction for the dev set\n",
    "plt.scatter(X_dev.Predicted_GMV,X_dev.Actual_GMV)"
   ]
  },
  {
   "cell_type": "code",
   "execution_count": 311,
   "metadata": {
    "scrolled": true
   },
   "outputs": [],
   "source": [
    "X_test = test_combined[[u'Category', u'sub category', u'IsHoliday',\n",
    "       u'category type', u'No. of products', u'delivery charge', u'Ad spend', u'App time', u'Month',\n",
    "       u'Year']]\n",
    "#Dropping columns Promtions has increased the performance on the dev set. Since I have populated \n",
    "#these variables earlier with zero might have increased the noise"
   ]
  },
  {
   "cell_type": "code",
   "execution_count": 312,
   "metadata": {},
   "outputs": [],
   "source": [
    "test_combined['Predicted_GMV'] = model.predict(X_test)"
   ]
  },
  {
   "cell_type": "code",
   "execution_count": 313,
   "metadata": {},
   "outputs": [],
   "source": [
    "test_ans = test_combined[['Category','sub category','Date','IsHoliday','Predicted_GMV']]"
   ]
  },
  {
   "cell_type": "code",
   "execution_count": 314,
   "metadata": {},
   "outputs": [
    {
     "name": "stderr",
     "output_type": "stream",
     "text": [
      "/anaconda2/lib/python2.7/site-packages/ipykernel_launcher.py:1: SettingWithCopyWarning: \n",
      "A value is trying to be set on a copy of a slice from a DataFrame.\n",
      "Try using .loc[row_indexer,col_indexer] = value instead\n",
      "\n",
      "See the caveats in the documentation: http://pandas.pydata.org/pandas-docs/stable/indexing.html#indexing-view-versus-copy\n",
      "  \"\"\"Entry point for launching an IPython kernel.\n",
      "/anaconda2/lib/python2.7/site-packages/ipykernel_launcher.py:2: SettingWithCopyWarning: \n",
      "A value is trying to be set on a copy of a slice from a DataFrame.\n",
      "Try using .loc[row_indexer,col_indexer] = value instead\n",
      "\n",
      "See the caveats in the documentation: http://pandas.pydata.org/pandas-docs/stable/indexing.html#indexing-view-versus-copy\n",
      "  \n",
      "/anaconda2/lib/python2.7/site-packages/ipykernel_launcher.py:3: SettingWithCopyWarning: \n",
      "A value is trying to be set on a copy of a slice from a DataFrame.\n",
      "Try using .loc[row_indexer,col_indexer] = value instead\n",
      "\n",
      "See the caveats in the documentation: http://pandas.pydata.org/pandas-docs/stable/indexing.html#indexing-view-versus-copy\n",
      "  This is separate from the ipykernel package so we can avoid doing imports until\n"
     ]
    }
   ],
   "source": [
    "test_ans['Category'] = lb_category.inverse_transform(test_ans['Category'])\n",
    "test_ans['sub category'] = lb_subcategory.inverse_transform(test_ans['sub category'])\n",
    "test_ans['IsHoliday'] = lb_IsHoliday.inverse_transform(test_ans['IsHoliday'])\n"
   ]
  },
  {
   "cell_type": "code",
   "execution_count": 297,
   "metadata": {},
   "outputs": [],
   "source": [
    "test_ans.to_csv('First_iteration_result_GMV.csv',index=False)"
   ]
  },
  {
   "cell_type": "code",
   "execution_count": 322,
   "metadata": {
    "scrolled": true
   },
   "outputs": [],
   "source": [
    "test_ans.to_csv('Final_iteration_result_GMV.csv',index=False)"
   ]
  },
  {
   "cell_type": "code",
   "execution_count": 323,
   "metadata": {},
   "outputs": [
    {
     "data": {
      "text/plain": [
       "(29999, 5)"
      ]
     },
     "execution_count": 323,
     "metadata": {},
     "output_type": "execute_result"
    }
   ],
   "source": [
    "test_ans.shape"
   ]
  },
  {
   "cell_type": "code",
   "execution_count": null,
   "metadata": {
    "collapsed": true
   },
   "outputs": [],
   "source": []
  }
 ],
 "metadata": {
  "kernelspec": {
   "display_name": "Python 2",
   "language": "python",
   "name": "python2"
  },
  "language_info": {
   "codemirror_mode": {
    "name": "ipython",
    "version": 2
   },
   "file_extension": ".py",
   "mimetype": "text/x-python",
   "name": "python",
   "nbconvert_exporter": "python",
   "pygments_lexer": "ipython2",
   "version": "2.7.14"
  }
 },
 "nbformat": 4,
 "nbformat_minor": 2
}
